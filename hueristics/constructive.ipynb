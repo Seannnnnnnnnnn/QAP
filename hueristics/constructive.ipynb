{
 "cells": [
  {
   "cell_type": "code",
   "execution_count": 1,
   "metadata": {},
   "outputs": [],
   "source": [
    "from QAP_Heuristic import QAP_Heuristic\n",
    "from QAP_Tester import QAP_Hueristic_Tester"
   ]
  },
  {
   "cell_type": "code",
   "execution_count": 2,
   "metadata": {},
   "outputs": [],
   "source": [
    "class NNConstructive(QAP_Heuristic):\n",
    "    def __init__(self, w, d):\n",
    "        super().__init__(w,d)\n",
    "\n",
    "    def __str__(self):\n",
    "        return \"NN-Constructive\"\n",
    "\n",
    "    def solve(self, n_iters: int): \n",
    "        \"\"\"\n",
    "        constructs off a simple hueristic of nearest neighbor\n",
    "        \"\"\"\n",
    "\n",
    "        # note that super takes in n_iters as k_word to solve so we keep it here\n",
    "        perm = [0]*self.n\n",
    "        for i in range(1,self.n):\n",
    "            perm[i] = self.nearest_neighbor(perm[i-1])\n",
    "        return perm\n",
    "    \n",
    "    def nearest_neighbor(self, facility: int) -> int:\n",
    "        # returns the most closely located facility \n",
    "        distances = self.D[facility]\n",
    "        closest_facility, closest_facility_distance = 0, float('inf')\n",
    "        \n",
    "        for facility2 in range(self.n): \n",
    "            if facility2 != facility and distances[facility2] < closest_facility_distance:\n",
    "                closest_facility = facility2\n",
    "                closest_facility_distance = distances[facility2]\n",
    "\n",
    "        return closest_facility"
   ]
  },
  {
   "cell_type": "code",
   "execution_count": 6,
   "metadata": {},
   "outputs": [],
   "source": [
    "# testing on a particular instance\n",
    "def read_integers(self, filename):\n",
    "    with open(filename) as f:\n",
    "        return [int(elem) for elem in f.read().split()]\n",
    "    \n",
    "\n"
   ]
  },
  {
   "cell_type": "code",
   "execution_count": null,
   "metadata": {},
   "outputs": [],
   "source": []
  },
  {
   "cell_type": "code",
   "execution_count": 3,
   "metadata": {},
   "outputs": [],
   "source": [
    "instance_path = \"../QAPInstances/\"\n",
    "solution_path = \"../QAPSolns/\"\n",
    "write_to_path = \"../results/\"\n",
    "heurstic = NNConstructive"
   ]
  },
  {
   "cell_type": "code",
   "execution_count": 4,
   "metadata": {},
   "outputs": [],
   "source": [
    "tester = QAP_Hueristic_Tester(heuristic=NNConstructive, \n",
    "                              instance_path=instance_path,\n",
    "                              soln_path=solution_path,\n",
    "                              write_to_path=write_to_path)"
   ]
  },
  {
   "cell_type": "code",
   "execution_count": 5,
   "metadata": {},
   "outputs": [],
   "source": [
    "tester.test_hueristic(n_iters=10_000, n_trials=1, bur_only=True)"
   ]
  },
  {
   "cell_type": "code",
   "execution_count": null,
   "metadata": {},
   "outputs": [],
   "source": []
  }
 ],
 "metadata": {
  "kernelspec": {
   "display_name": ".venv",
   "language": "python",
   "name": "python3"
  },
  "language_info": {
   "codemirror_mode": {
    "name": "ipython",
    "version": 3
   },
   "file_extension": ".py",
   "mimetype": "text/x-python",
   "name": "python",
   "nbconvert_exporter": "python",
   "pygments_lexer": "ipython3",
   "version": "3.9.6"
  },
  "orig_nbformat": 4
 },
 "nbformat": 4,
 "nbformat_minor": 2
}
