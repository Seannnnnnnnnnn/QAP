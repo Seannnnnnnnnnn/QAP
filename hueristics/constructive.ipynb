{
 "cells": [
  {
   "cell_type": "code",
   "execution_count": 1,
   "metadata": {},
   "outputs": [],
   "source": [
    "from QAP_Heuristic import QAP_Heuristic\n",
    "from QAP_Tester import QAP_Hueristic_Tester"
   ]
  },
  {
   "cell_type": "code",
   "execution_count": 2,
   "metadata": {},
   "outputs": [],
   "source": [
    "\"\"\"\n",
    "Constructive heuristic that assigns the unchosen facility of smallest \n",
    "cost function contribution. That is, minimises the set of possible facilities\n",
    "for D[i]*W[i]\n",
    "\"\"\"\n",
    "\n",
    "\n",
    "class Constructive(QAP_Heuristic):\n",
    "    def __init__(self, w, d):\n",
    "        super().__init__(w,d)\n",
    "\n",
    "    def __str__(self):\n",
    "        return \"NN-Constructive\"\n",
    "\n",
    "    def solve(self, n_iters: int): \n",
    "        \"\"\"\n",
    "        constructs off a simple hueristic of nearest neighbor\n",
    "        \"\"\"\n",
    "\n",
    "        # note that super takes in n_iters as k_word to solve so we keep it here\n",
    "        perm = [0]*self.n\n",
    "        assigned_facilities = set()\n",
    "        for i in range(1,self.n):\n",
    "            perm[i] = self.nearest_neighbor(perm[i], assigned_facilities)\n",
    "            assigned_facilities.add(perm[i])\n",
    "        return perm\n",
    "    \n",
    "    def nearest_neighbor(self, facility: int, assigned_facilities: set) -> int:\n",
    "        # returns the most closely located facility \n",
    "        distances = self.D[facility]\n",
    "        weights   = self.W[facility]\n",
    "        \n",
    "        closest_facility, closest_facility_distance = None, float('inf')\n",
    "        \n",
    "        for facility2 in range(self.n): \n",
    "            if(\n",
    "               facility2 != facility and \n",
    "               distances[facility2]*weights[facility2] < closest_facility_distance and \n",
    "               facility2 not in assigned_facilities\n",
    "              ):\n",
    "                closest_facility = facility2\n",
    "                closest_facility_distance = distances[facility2]*weights[facility2]\n",
    "                \n",
    "        return closest_facility"
   ]
  },
  {
   "cell_type": "code",
   "execution_count": 3,
   "metadata": {},
   "outputs": [],
   "source": [
    "instance_path = \"../QAPInstances/\"\n",
    "solution_path = \"../QAPSolns/\"\n",
    "write_to_path = \"../results/\"\n",
    "heurstic = Constructive"
   ]
  },
  {
   "cell_type": "code",
   "execution_count": 4,
   "metadata": {},
   "outputs": [],
   "source": [
    "tester = QAP_Hueristic_Tester(heuristic=Constructive, \n",
    "                              instance_path=instance_path,\n",
    "                              soln_path=solution_path,\n",
    "                              write_to_path=write_to_path)"
   ]
  },
  {
   "cell_type": "code",
   "execution_count": 5,
   "metadata": {},
   "outputs": [],
   "source": [
    "tester.test_hueristic(n_iters=1, n_trials=10_000, bur_only=True)"
   ]
  }
 ],
 "metadata": {
  "kernelspec": {
   "display_name": ".venv",
   "language": "python",
   "name": "python3"
  },
  "language_info": {
   "codemirror_mode": {
    "name": "ipython",
    "version": 3
   },
   "file_extension": ".py",
   "mimetype": "text/x-python",
   "name": "python",
   "nbconvert_exporter": "python",
   "pygments_lexer": "ipython3",
   "version": "3.9.6"
  },
  "orig_nbformat": 4
 },
 "nbformat": 4,
 "nbformat_minor": 2
}
