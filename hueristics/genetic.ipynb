{
 "cells": [
  {
   "cell_type": "markdown",
   "metadata": {},
   "source": [
    "### Boiler Plate Code"
   ]
  },
  {
   "cell_type": "code",
   "execution_count": 84,
   "metadata": {},
   "outputs": [],
   "source": [
    "import random\n",
    "import os\n",
    "import numpy as np\n",
    "import matplotlib.pyplot as plt\n",
    "from tqdm import trange, tqdm\n",
    "from typing import List\n",
    "from QAP_Heuristic import QAP_Heuristic\n",
    "%matplotlib inline"
   ]
  },
  {
   "cell_type": "code",
   "execution_count": 85,
   "metadata": {},
   "outputs": [],
   "source": [
    "# set up params for plots\n",
    "SMALL, MED, LARGE, LW = 18, 24, 30, 3\n",
    "plt.rc('axes', titlesize=SMALL)    # fontsize of the axes title\n",
    "plt.rc('axes', labelsize=SMALL)    # fontsize of the x and y labels\n",
    "plt.rc('xtick', labelsize=SMALL) # fontsize of the tick labels\n",
    "plt.rc('ytick', labelsize=SMALL) # fontsize of the tick labels\n",
    "plt.rc('legend', fontsize=MED)   # legend fontsize\n",
    "plt.rc('font', size=SMALL)       # controls default text sizes"
   ]
  },
  {
   "cell_type": "code",
   "execution_count": 86,
   "metadata": {},
   "outputs": [],
   "source": [
    "# read in Tai35b test case to verify the model works\n",
    "# for managing file opening and closing\n",
    "def read_integers(filename):\n",
    "    with open(filename) as f:\n",
    "        return [int(elem) for elem in f.read().split()]\n",
    "\n",
    "file_path = '../QAPInstances/tai12b.dat'\n",
    "file_it = iter(read_integers(file_path))\n",
    "\n",
    "# Number of points\n",
    "n = next(file_it)\n",
    "\n",
    "# Distance between locations\n",
    "w = np.array([[next(file_it) for j in range(n)] for i in range(n)])\n",
    "d = np.array([[next(file_it) for j in range(n)] for i in range(n)])\n"
   ]
  },
  {
   "cell_type": "markdown",
   "metadata": {},
   "source": [
    "##### Genetic Algorithm\n",
    "\n",
    "We implement a genetic algorithm below. A couple of TODO's are as follows: \n",
    "- Initial Population Generation: The performance of a GA is sensitive to the quality of its initial population. Look at implementing GRASP - an algo for performing this "
   ]
  },
  {
   "cell_type": "code",
   "execution_count": 87,
   "metadata": {},
   "outputs": [],
   "source": [
    "class Genetic(QAP_Heuristic):\n",
    "    def __init__(self, w, d, population_size, mutation_probability) -> None:\n",
    "        super().__init__(w, d)\n",
    "        self.population_size = population_size\n",
    "        self.mutation_probability = mutation_probability\n",
    "    \n",
    "    def __str__(self) -> str:\n",
    "        return \"GeneticAlgorithm\"\n",
    "\n",
    "    ## Subroutines\n",
    "    def generate_initial_population(self, population_size: int):\n",
    "        # initially generates a population of random permutations\n",
    "        return [np.random.permutation(self.n) for _ in range(population_size)]\n",
    "\n",
    "    @staticmethod\n",
    "    def selection(population: List[np.array], selection_size=2):\n",
    "        # implements a tournament based selection scheme\n",
    "        return random.sample(population, selection_size)\n",
    "    \n",
    "    def mutate(self, perm: np.array):\n",
    "        # swap two indices in place\n",
    "        index1, index2 = random.randint(0, self.n-1), random.randint(0, self.n-1)\n",
    "\n",
    "        temp = perm[index2]\n",
    "        perm[index2] = perm[index1]\n",
    "        perm[index1] = temp\n",
    "        \n",
    "        return perm\n",
    "\n",
    "    def crossover(self, perm1: np.array, perm2: np.array):\n",
    "        # implementation of partially-mapped-crossover \n",
    "        # copied from: github.com/DEAP/deap/blob/master/deap/tools/crossover.py\n",
    "        \n",
    "        size = self.n\n",
    "        p1, p2 = [0] * size, [0] * size\n",
    "\n",
    "        # Initialize the position of each indices in the individuals\n",
    "        for k in range(size):\n",
    "            p1[perm1[k]] = k\n",
    "            p2[perm2[k]] = k\n",
    "        \n",
    "        # Choose crossover points\n",
    "        cxpoint1 = random.randint(0, size)\n",
    "        cxpoint2 = random.randint(0, size - 1)\n",
    "        if cxpoint2 >= cxpoint1:\n",
    "            cxpoint2 += 1\n",
    "        else:  # Swap the two cx points\n",
    "            cxpoint1, cxpoint2 = cxpoint2, cxpoint1\n",
    "\n",
    "        # Apply crossover between cx points\n",
    "        for k in range(cxpoint1, cxpoint2):\n",
    "            # Keep track of the selected values\n",
    "            temp1 = perm1[k]\n",
    "            temp2 = perm2[k]\n",
    "            # Swap the matched value\n",
    "            perm1[k], perm1[p1[temp2]] = temp2, temp1\n",
    "            perm2[k], perm2[p2[temp1]] = temp1, temp2\n",
    "            # Position bookkeeping\n",
    "            p1[temp1], p1[temp2] = p1[temp2], p1[temp1]\n",
    "            p2[temp1], p2[temp2] = p2[temp2], p2[temp1]\n",
    "        \n",
    "        # return the argmin of cost({ind1, ind2})\n",
    "        return perm1 if self.cost(perm1) < self.cost(perm2) else perm2\n",
    "\n",
    "    ## genetic algorithm\n",
    "    def solve(self, n_iters: int):\n",
    "        \n",
    "        population = self.generate_initial_population(self.population_size)\n",
    "        cost_hist = []\n",
    "\n",
    "        for _ in tqdm(range(n_iters)):\n",
    "            \n",
    "            for __ in range(self.population_size): \n",
    "                \n",
    "                # select members of the population to mutate: \n",
    "                members = self.selection(population, 2)\n",
    "                crossover_perm = self.crossover(members[0], members[1])\n",
    "                if np.random.uniform() < self.mutation_probability: crossover_perm = self.mutate(crossover_perm)\n",
    "                population.append(crossover_perm)\n",
    "\n",
    "            # cull population\n",
    "            population.sort(key=self.cost)\n",
    "            population = population[:self.population_size]\n",
    "            \"\"\"\n",
    "            for i in range(self.population_size):\n",
    "                for j in range(self.population_size):\n",
    "                    if i < j: assert self.cost(population[i]) <= self.cost(population[j])\n",
    "            \"\"\"\n",
    "            cost_hist.append(self.cost(population[0]))\n",
    "\n",
    "        return population[0], cost_hist"
   ]
  },
  {
   "cell_type": "code",
   "execution_count": 90,
   "metadata": {},
   "outputs": [
    {
     "name": "stderr",
     "output_type": "stream",
     "text": [
      "100%|██████████| 10000/10000 [00:27<00:00, 370.04it/s]\n"
     ]
    }
   ],
   "source": [
    "test = Genetic(w,d,population_size=50,mutation_probability=0.001)\n",
    "_, cost_hist = test.solve(10_000)\n"
   ]
  },
  {
   "cell_type": "markdown",
   "metadata": {},
   "source": [
    "### Verification\n",
    "\n",
    "we verify the correctness of our implementation by plotting cost history on the following test instance "
   ]
  },
  {
   "cell_type": "code",
   "execution_count": 91,
   "metadata": {},
   "outputs": [
    {
     "data": {
      "text/plain": [
       "[<matplotlib.lines.Line2D at 0x11ff9ce80>]"
      ]
     },
     "execution_count": 91,
     "metadata": {},
     "output_type": "execute_result"
    },
    {
     "data": {
      "image/png": "[encoded data removed]",
      "text/plain": [
       "<Figure size 640x480 with 1 Axes>"
      ]
     },
     "metadata": {},
     "output_type": "display_data"
    }
   ],
   "source": [
    "plt.plot(cost_hist)"
   ]
  },
  {
   "cell_type": "markdown",
   "metadata": {},
   "source": [
    "### Automated Testing\n",
    "code for automating the opening, closing and testing of a hueristic on every instance in QAPLib"
   ]
  },
  {
   "cell_type": "code",
   "execution_count": 34,
   "metadata": {},
   "outputs": [],
   "source": [
    "instance_path = '../QAPInstances/'\n",
    "soln_path     = '../QAPSolns/'\n",
    "\n",
    "def open_solution(filename: str):\n",
    "    file_it = iter(read_integers(filename))\n",
    "    _ = next(file_it)    # this is just how the files within the lib are formatted\n",
    "    return next(file_it)\n",
    "\n",
    "        \n",
    "\n",
    "def test_hueristic(n_iters=10_000, tai_only=False):\n",
    "    \"\"\"\n",
    "    n_iters: number of iterations on each test instance\n",
    "    tai_only: if True, restricts testing to the Tai instances, reducing computation time\n",
    "    \"\"\"\n",
    "    \n",
    "    results = [] # for storing results\n",
    "\n",
    "    for filename in tqdm(os.listdir(instance_path)):\n",
    "        \n",
    "        # skips any instances that are not Tai\n",
    "        if tai_only and 'tai' not in filename: continue  \n",
    "\n",
    "        file_it = iter(read_integers(instance_path+filename))\n",
    "\n",
    "        # open QAP instance param's \n",
    "        n = next(file_it)\n",
    "        w = np.array([[next(file_it) for j in range(n)] for i in range(n)])\n",
    "        d = np.array([[next(file_it) for j in range(n)] for i in range(n)])\n",
    "\n",
    "        # generate an instance\n",
    "        ils = IteratedLocalSearch(w, d)\n",
    "\n",
    "        # open up corresponding soln from QAPLib: \n",
    "        soln_file = filename[:-4]+'.sln' # this removes the .dat from filename\n",
    "        \n",
    "        try:\n",
    "            qap_soln = open_solution(soln_path+soln_file)\n",
    "            huerstic_soln, _, _ = ils.iterated_local_search(n_iters)\n",
    "\n",
    "            # compute gap\n",
    "            gap = 100*(ils.cost(huerstic_soln) - qap_soln)/qap_soln\n",
    "            results.append((soln_file, gap))\n",
    "            \n",
    "\n",
    "        # any instances without corresponding solution files are deleted\n",
    "        except FileNotFoundError:\n",
    "            os.remove(instance_path+filename) \n",
    "    \n",
    "    # just printing results for now, but will need to save to file or something \n",
    "    print(results)\n",
    "\n",
    "    return"
   ]
  },
  {
   "cell_type": "code",
   "execution_count": 35,
   "metadata": {},
   "outputs": [
    {
     "name": "stderr",
     "output_type": "stream",
     "text": [
      "100%|██████████| 100/100 [00:02<00:00, 44.48it/s]\n",
      "100%|██████████| 100/100 [00:00<00:00, 338.73it/s]\n",
      "100%|██████████| 100/100 [00:02<00:00, 46.90it/s]\n",
      "100%|██████████| 100/100 [00:00<00:00, 325.03it/s]\n",
      "100%|██████████| 100/100 [00:25<00:00,  3.98it/s]\n",
      "100%|██████████| 100/100 [03:11<00:00,  1.92s/it]\n",
      "100%|██████████| 100/100 [00:24<00:00,  4.16it/s]\n",
      "100%|██████████| 100/100 [00:47<00:00,  2.11it/s]\n",
      "100%|██████████| 100/100 [00:00<00:00, 101.35it/s]\n",
      "100%|██████████| 100/100 [00:45<00:00,  2.22it/s]\n",
      "100%|██████████| 100/100 [00:00<00:00, 103.16it/s]\n",
      "100%|██████████| 100/100 [00:09<00:00, 10.16it/s]\n",
      "100%|██████████| 100/100 [00:00<00:00, 571.60it/s]\n",
      "100%|██████████| 100/100 [00:00<00:00, 572.78it/s]\n",
      "100%|██████████| 100/100 [00:05<00:00, 19.69it/s]\n",
      "100%|██████████| 100/100 [00:05<00:00, 19.30it/s]\n",
      "100%|██████████| 100/100 [00:01<00:00, 69.84it/s]\n",
      "100%|██████████| 100/100 [00:01<00:00, 69.54it/s]\n",
      "100%|██████████| 100/100 [00:02<00:00, 35.42it/s]\n",
      "100%|██████████| 100/100 [00:00<00:00, 263.17it/s]\n",
      "100%|██████████| 100/100 [26:48<00:00, 16.09s/it]\n",
      "100%|██████████| 100/100 [00:05<00:00, 18.22it/s]\n",
      "100%|██████████| 100/100 [00:01<00:00, 53.55it/s]\n",
      "100%|██████████| 100/100 [00:05<00:00, 18.22it/s]\n",
      "100%|██████████| 100/100 [00:00<00:00, 276.97it/s]\n",
      "100%|██████████| 100/100 [00:00<00:00, 277.55it/s]\n",
      "100%|██████████| 127/127 [33:34<00:00, 15.86s/it]"
     ]
    },
    {
     "name": "stdout",
     "output_type": "stream",
     "text": [
      "[('tai35b.sln', 78.23549542101385), ('tai15a.sln', 25.726017093664833), ('tai35a.sln', 23.588419827894445), ('tai15b.sln', 3.8462488014164244), ('tai80b.sln', 56.383199569316815), ('tai150b.sln', 32.53693050005149), ('tai80a.sln', 16.788451805679514), ('tai100a.sln', 13.888444232613889), ('tai25a.sln', 26.682578628852625), ('tai100b.sln', 51.454035638229065), ('tai25b.sln', 152.8699273889646), ('tai64c.sln', 62.27838579944912), ('tai12a.sln', 45.67588763724512), ('tai12b.sln', 128.34445523461656), ('tai50b.sln', 82.03367912233288), ('tai50a.sln', 18.061122589392234), ('tai30b.sln', 122.17745687832435), ('tai30a.sln', 18.272679971795444), ('tai40a.sln', 19.86124604618124), ('tai17a.sln', 26.549982513643425), ('tai256c.sln', 18.152913671962743), ('tai60b.sln', 79.92105782373483), ('tai40b.sln', 79.81296043517223), ('tai60a.sln', 18.199041293861942), ('tai20a.sln', 27.9901973326965), ('tai20b.sln', 122.77691179751857)]\n"
     ]
    },
    {
     "name": "stderr",
     "output_type": "stream",
     "text": [
      "\n"
     ]
    }
   ],
   "source": [
    "test_hueristic(100, tai_only=True)"
   ]
  },
  {
   "cell_type": "code",
   "execution_count": null,
   "metadata": {},
   "outputs": [],
   "source": []
  }
 ],
 "metadata": {
  "kernelspec": {
   "display_name": ".venv",
   "language": "python",
   "name": "python3"
  },
  "language_info": {
   "codemirror_mode": {
    "name": "ipython",
    "version": 3
   },
   "file_extension": ".py",
   "mimetype": "text/x-python",
   "name": "python",
   "nbconvert_exporter": "python",
   "pygments_lexer": "ipython3",
   "version": "3.9.6"
  },
  "orig_nbformat": 4
 },
 "nbformat": 4,
 "nbformat_minor": 2
}
