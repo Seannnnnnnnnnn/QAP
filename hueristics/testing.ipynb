{
 "cells": [
  {
   "cell_type": "markdown",
   "metadata": {},
   "source": [
    "This notebook is used for testing purposes hueristics"
   ]
  },
  {
   "cell_type": "code",
   "execution_count": 2,
   "metadata": {},
   "outputs": [],
   "source": [
    "import os\n",
    "import numpy as np\n",
    "from tqdm import trange, tqdm"
   ]
  },
  {
   "cell_type": "code",
   "execution_count": null,
   "metadata": {},
   "outputs": [],
   "source": [
    "instance_path = '../QAPInstances/'\n",
    "soln_path     = '../QAPSolns/'\n",
    "\n",
    "def read_integers(filename):\n",
    "    with open(filename) as f:\n",
    "        return [int(elem) for elem in f.read().split()]\n",
    "\n",
    "\n",
    "def open_solution(filename: str):\n",
    "    file_it = iter(read_integers(filename))\n",
    "    _ = next(file_it)    # this is just how the files within the lib are formatted\n",
    "    return next(file_it)\n",
    "\n",
    "        \n",
    "\n",
    "def test_hueristic(qap_hueristic, n_iters=10_000, tai_only=False):\n",
    "    \"\"\"\n",
    "    n_iters: number of iterations on each test instance\n",
    "    tai_only: if True, restricts testing to the Tai instances, reducing computation time\n",
    "    \"\"\"\n",
    "    \n",
    "    results = [] # for storing results\n",
    "\n",
    "    for filename in tqdm(os.listdir(instance_path)):\n",
    "        \n",
    "        # skips any instances that are not Tai\n",
    "        if tai_only and 'tai' not in filename: continue  \n",
    "\n",
    "        file_it = iter(read_integers(instance_path+filename))\n",
    "\n",
    "        # open QAP instance param's \n",
    "        n = next(file_it)\n",
    "        w = np.array([[next(file_it) for j in range(n)] for i in range(n)])\n",
    "        d = np.array([[next(file_it) for j in range(n)] for i in range(n)])\n",
    "\n",
    "        # generate an instance\n",
    "        hueristic = qap_hueristic(w, d)\n",
    "\n",
    "        # open up corresponding soln from QAPLib: \n",
    "        soln_file = filename[:-4]+'.sln' # this removes the .dat from filename\n",
    "        \n",
    "        try:\n",
    "            qap_soln = open_solution(soln_path+soln_file)\n",
    "            huerstic_soln, _, _ = hueristic.soln(n_iters)\n",
    "\n",
    "            # compute gap\n",
    "            gap = 100*(hueristic.cost(huerstic_soln) - qap_soln)/qap_soln\n",
    "            results.append((soln_file, gap))\n",
    "            \n",
    "\n",
    "        # any instances without corresponding solution files are deleted\n",
    "        except FileNotFoundError:\n",
    "            os.remove(instance_path+filename) \n",
    "    \n",
    "    # just printing results for now, but will need to save to file or something \n",
    "    print(results)\n",
    "\n",
    "    return"
   ]
  }
 ],
 "metadata": {
  "kernelspec": {
   "display_name": ".venv",
   "language": "python",
   "name": "python3"
  },
  "language_info": {
   "codemirror_mode": {
    "name": "ipython",
    "version": 3
   },
   "file_extension": ".py",
   "mimetype": "text/x-python",
   "name": "python",
   "nbconvert_exporter": "python",
   "pygments_lexer": "ipython3",
   "version": "3.9.6"
  },
  "orig_nbformat": 4
 },
 "nbformat": 4,
 "nbformat_minor": 2
}
