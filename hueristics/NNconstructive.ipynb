{
 "cells": [
  {
   "cell_type": "code",
   "execution_count": 1,
   "metadata": {},
   "outputs": [],
   "source": [
    "from QAP_Heuristic import QAP_Heuristic\n",
    "from QAP_Tester import QAP_Hueristic_Tester"
   ]
  },
  {
   "cell_type": "code",
   "execution_count": 17,
   "metadata": {},
   "outputs": [],
   "source": [
    "\"\"\"\n",
    "Constructive heuristic that assigns the unchosen facility of closest distance\n",
    "to the permutation\n",
    "\"\"\"\n",
    "\n",
    "\n",
    "class NNConstructive(QAP_Heuristic):\n",
    "    def __init__(self, w, d):\n",
    "        super().__init__(w,d)\n",
    "\n",
    "    def __str__(self):\n",
    "        return \"NN-Constructive\"\n",
    "\n",
    "    def solve(self, n_iters: int): \n",
    "        \"\"\"\n",
    "        constructs off a simple hueristic of nearest neighbor\n",
    "        \"\"\"\n",
    "\n",
    "        # note that super takes in n_iters as k_word to solve so we keep it here\n",
    "        perm = [0]*self.n\n",
    "        assigned_facilities = set()\n",
    "        for i in range(1,self.n):\n",
    "            perm[i] = self.nearest_neighbor(perm[i], assigned_facilities)\n",
    "            assigned_facilities.add(perm[i])\n",
    "        return perm\n",
    "    \n",
    "    def nearest_neighbor(self, facility: int, assigned_facilities: set) -> int:\n",
    "        # returns the most closely located facility \n",
    "        distances = self.D[facility]\n",
    "        closest_facility, closest_facility_distance = None, float('inf')\n",
    "        \n",
    "        for facility2 in range(self.n): \n",
    "            if(\n",
    "               facility2 != facility and \n",
    "               distances[facility2] < closest_facility_distance and \n",
    "               facility2 not in assigned_facilities\n",
    "              ):\n",
    "                closest_facility = facility2\n",
    "                closest_facility_distance = distances[facility2]\n",
    "                \n",
    "        return closest_facility"
   ]
  },
  {
   "cell_type": "markdown",
   "metadata": {},
   "source": [
    "TODO: CHECK THAT IT WORKS, WE ARE GETTING NEGATIVE GAPS"
   ]
  },
  {
   "cell_type": "code",
   "execution_count": 18,
   "metadata": {},
   "outputs": [],
   "source": [
    "# testing on a particular instance\n",
    "import numpy as np\n",
    "\n",
    "\n",
    "def read_integers(filename):\n",
    "    with open(filename) as f:\n",
    "        return [int(elem) for elem in f.read().split()]\n",
    "\n",
    "file_path = '../QAPInstances/tai12b.dat'\n",
    "file_it = iter(read_integers(file_path))\n",
    "\n",
    "# Number of points\n",
    "n = next(file_it)\n",
    "\n",
    "# Distance between locations\n",
    "w = np.array([[next(file_it) for j in range(n)] for i in range(n)])\n",
    "d = np.array([[next(file_it) for j in range(n)] for i in range(n)])\n",
    "test = NNConstructive(w,d)"
   ]
  },
  {
   "cell_type": "code",
   "execution_count": 19,
   "metadata": {},
   "outputs": [],
   "source": [
    "soln = test.solve(10)"
   ]
  },
  {
   "cell_type": "code",
   "execution_count": 20,
   "metadata": {},
   "outputs": [
    {
     "data": {
      "text/plain": [
       "[0, 1, 8, 3, 4, 9, 2, 10, 6, 11, 5, 7]"
      ]
     },
     "execution_count": 20,
     "metadata": {},
     "output_type": "execute_result"
    }
   ],
   "source": [
    "soln"
   ]
  },
  {
   "cell_type": "code",
   "execution_count": 21,
   "metadata": {},
   "outputs": [],
   "source": [
    "instance_path = \"../QAPInstances/\"\n",
    "solution_path = \"../QAPSolns/\"\n",
    "write_to_path = \"../results/\"\n",
    "heurstic = NNConstructive"
   ]
  },
  {
   "cell_type": "code",
   "execution_count": 22,
   "metadata": {},
   "outputs": [],
   "source": [
    "tester = QAP_Hueristic_Tester(heuristic=NNConstructive, \n",
    "                              instance_path=instance_path,\n",
    "                              soln_path=solution_path,\n",
    "                              write_to_path=write_to_path)"
   ]
  },
  {
   "cell_type": "code",
   "execution_count": 24,
   "metadata": {},
   "outputs": [],
   "source": [
    "tester.test_hueristic(n_iters=10_000, n_trials=1, tai_only=True)"
   ]
  },
  {
   "cell_type": "code",
   "execution_count": null,
   "metadata": {},
   "outputs": [],
   "source": []
  }
 ],
 "metadata": {
  "kernelspec": {
   "display_name": ".venv",
   "language": "python",
   "name": "python3"
  },
  "language_info": {
   "codemirror_mode": {
    "name": "ipython",
    "version": 3
   },
   "file_extension": ".py",
   "mimetype": "text/x-python",
   "name": "python",
   "nbconvert_exporter": "python",
   "pygments_lexer": "ipython3",
   "version": "3.9.6"
  },
  "orig_nbformat": 4
 },
 "nbformat": 4,
 "nbformat_minor": 2
}
