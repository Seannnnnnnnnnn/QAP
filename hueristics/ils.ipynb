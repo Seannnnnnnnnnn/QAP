{
 "cells": [
  {
   "cell_type": "markdown",
   "metadata": {},
   "source": [
    "### Boiler Plate Code"
   ]
  },
  {
   "cell_type": "code",
   "execution_count": 4,
   "metadata": {},
   "outputs": [],
   "source": [
    "import random\n",
    "import os\n",
    "\n",
    "import numpy as np\n",
    "import seaborn as sns\n",
    "import matplotlib.pyplot as plt\n",
    "from tqdm import trange\n",
    "%matplotlib inline"
   ]
  },
  {
   "cell_type": "code",
   "execution_count": 16,
   "metadata": {},
   "outputs": [],
   "source": [
    "# for managing file opening and closing\n",
    "def read_integers(filename):\n",
    "    with open(filename) as f:\n",
    "        return [int(elem) for elem in f.read().split()]\n",
    "\n",
    "file_path = '../QAPInstances/tai30b.dat'\n",
    "file_it = iter(read_integers('../QAPInstances/tai30b.dat'))\n",
    "\n",
    "# Number of points\n",
    "n = next(file_it)\n",
    "\n",
    "# Distance between locations\n",
    "w = np.array([[next(file_it) for j in range(n)] for i in range(n)])\n",
    "d = np.array([[next(file_it) for j in range(n)] for i in range(n)])"
   ]
  },
  {
   "cell_type": "code",
   "execution_count": 17,
   "metadata": {},
   "outputs": [],
   "source": [
    "# vectorised cost function\n",
    "def cost(X, D, W) -> float:\n",
    "    return np.sum(W * D[X][:, X])"
   ]
  },
  {
   "cell_type": "code",
   "execution_count": 19,
   "metadata": {},
   "outputs": [],
   "source": [
    "# set up params for plots\n",
    "SMALL, MED, LARGE, LW = 18, 24, 30, 3\n",
    "plt.rc('axes', titlesize=MED)    # fontsize of the axes title\n",
    "plt.rc('axes', labelsize=MED)    # fontsize of the x and y labels\n",
    "plt.rc('xtick', labelsize=SMALL) # fontsize of the tick labels\n",
    "plt.rc('ytick', labelsize=SMALL) # fontsize of the tick labels\n",
    "plt.rc('legend', fontsize=MED)   # legend fontsize\n",
    "plt.rc('font', size=LARGE)       # controls default text sizes"
   ]
  },
  {
   "cell_type": "markdown",
   "metadata": {},
   "source": [
    "##### Iterated Local Search"
   ]
  },
  {
   "cell_type": "code",
   "execution_count": 5,
   "metadata": {},
   "outputs": [],
   "source": [
    "# we follow the pertubation method described in the paper: ILS for QAP (Sultze '05)\n",
    "# the paper perturbs solution via swapping k indices \n",
    "\n",
    "def peturbation(perm: np.array, k: int):\n",
    "    \n",
    "    new_perm = perm[:]\n",
    "\n",
    "    # of course, this inexact method can result in pertubations of size < k, but these occur with sufficiently small probability \n",
    "    for _ in range(k): \n",
    "        i = random.randint(0, len(perm)-1)\n",
    "        j = random.randint(0, len(perm)-1)\n",
    "        new_perm[i], new_perm[j] = new_perm[j], new_perm[i]   \n",
    "    \n",
    "    return new_perm\n"
   ]
  },
  {
   "cell_type": "code",
   "execution_count": null,
   "metadata": {},
   "outputs": [],
   "source": [
    "def iterated_local_search()\n",
    "    return"
   ]
  },
  {
   "cell_type": "markdown",
   "metadata": {},
   "source": [
    "### Automated Testing"
   ]
  },
  {
   "cell_type": "code",
   "execution_count": 20,
   "metadata": {},
   "outputs": [],
   "source": [
    "# code for automating the opening, closing and testing of a hueristic on every instance in QAPLib\n",
    "def test_hueristic():\n",
    "\n",
    "    for filename in os.listdir(instance_path):\n",
    "    \n",
    "        file_it = iter(read_integers(instance_path+filename))\n",
    "\n",
    "        # open QAP instance param's \n",
    "        n = next(file_it)\n",
    "        w = np.array([[next(file_it) for j in range(n)] for i in range(n)])\n",
    "        d = np.array([[next(file_it) for j in range(n)] for i in range(n)])\n",
    "\n",
    "        # TODO: run the hueristic on the problem instance by calling whatever hueristic we have defined here, and then write to file\n",
    "\n",
    "    return"
   ]
  }
 ],
 "metadata": {
  "kernelspec": {
   "display_name": ".venv",
   "language": "python",
   "name": "python3"
  },
  "language_info": {
   "codemirror_mode": {
    "name": "ipython",
    "version": 3
   },
   "file_extension": ".py",
   "mimetype": "text/x-python",
   "name": "python",
   "nbconvert_exporter": "python",
   "pygments_lexer": "ipython3",
   "version": "3.9.6"
  },
  "orig_nbformat": 4
 },
 "nbformat": 4,
 "nbformat_minor": 2
}
