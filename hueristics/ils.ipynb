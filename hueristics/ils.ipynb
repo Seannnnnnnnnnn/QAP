{
 "cells": [
  {
   "cell_type": "markdown",
   "metadata": {},
   "source": [
    "### Boiler Plate Code"
   ]
  },
  {
   "cell_type": "code",
   "execution_count": 1,
   "metadata": {},
   "outputs": [],
   "source": [
    "import random\n",
    "import os\n",
    "\n",
    "import numpy as np\n",
    "import seaborn as sns\n",
    "import matplotlib.pyplot as plt\n",
    "from tqdm import trange\n",
    "%matplotlib inline"
   ]
  },
  {
   "cell_type": "code",
   "execution_count": 2,
   "metadata": {},
   "outputs": [],
   "source": [
    "# for managing file opening and closing\n",
    "def read_integers(filename):\n",
    "    with open(filename) as f:\n",
    "        return [int(elem) for elem in f.read().split()]\n",
    "\n",
    "file_path = '../QAPInstances/tai30b.dat'\n",
    "file_it = iter(read_integers('../QAPInstances/tai30b.dat'))\n",
    "\n",
    "# Number of points\n",
    "n = next(file_it)\n",
    "\n",
    "# Distance between locations\n",
    "w = np.array([[next(file_it) for j in range(n)] for i in range(n)])\n",
    "d = np.array([[next(file_it) for j in range(n)] for i in range(n)])"
   ]
  },
  {
   "cell_type": "code",
   "execution_count": 3,
   "metadata": {},
   "outputs": [],
   "source": [
    "# vectorised cost function\n",
    "def cost(X, D, W) -> float:\n",
    "    return np.sum(W * D[X][:, X])"
   ]
  },
  {
   "cell_type": "code",
   "execution_count": 4,
   "metadata": {},
   "outputs": [],
   "source": [
    "# set up params for plots\n",
    "SMALL, MED, LARGE, LW = 18, 24, 30, 3\n",
    "plt.rc('axes', titlesize=MED)    # fontsize of the axes title\n",
    "plt.rc('axes', labelsize=MED)    # fontsize of the x and y labels\n",
    "plt.rc('xtick', labelsize=SMALL) # fontsize of the tick labels\n",
    "plt.rc('ytick', labelsize=SMALL) # fontsize of the tick labels\n",
    "plt.rc('legend', fontsize=MED)   # legend fontsize\n",
    "plt.rc('font', size=LARGE)       # controls default text sizes"
   ]
  },
  {
   "cell_type": "markdown",
   "metadata": {},
   "source": [
    "##### Iterated Local Search"
   ]
  },
  {
   "cell_type": "code",
   "execution_count": 5,
   "metadata": {},
   "outputs": [],
   "source": [
    "# we follow the pertubation method described in the paper: ILS for QAP (Sultze '05)\n",
    "# the paper perturbs solution via swapping k indices \n",
    "\n",
    "def peturbation(perm: np.array, k: int):\n",
    "    \n",
    "    new_perm = perm[:]\n",
    "\n",
    "    # of course, this inexact method can result in pertubations of size < k, but these occur with sufficiently small probability \n",
    "    for _ in range(k): \n",
    "        i = random.randint(0, len(perm)-1)\n",
    "        j = random.randint(0, len(perm)-1)\n",
    "        new_perm[i], new_perm[j] = new_perm[j], new_perm[i]   \n",
    "    \n",
    "    return new_perm\n"
   ]
  },
  {
   "cell_type": "code",
   "execution_count": 6,
   "metadata": {},
   "outputs": [],
   "source": [
    "# generates initial solution via a random permuatation\n",
    "\n",
    "def generate_initial_solution(n: int):\n",
    "    return np.random.permutation(n)"
   ]
  },
  {
   "cell_type": "code",
   "execution_count": 7,
   "metadata": {},
   "outputs": [],
   "source": [
    "# performs local search by exploring the 2-OPT neighborhood\n",
    "\n",
    "def local_search(permutation: np.array):\n",
    "    n = len(permutation)\n",
    "    curr_best = np.copy(permutation)  # create a deep copy\n",
    "    \n",
    "    for i in range(1, n-2):\n",
    "        for j in range(i+1, n):\n",
    "            \n",
    "            new_perm = np.copy(curr_best)\n",
    "            new_perm[i:j] = curr_best[j-1:i-1:-1]\n",
    "            \n",
    "            if cost(new_perm, d, w) < cost(curr_best, d, w): \n",
    "                curr_best = new_perm        \n",
    "    \n",
    "    return curr_best"
   ]
  },
  {
   "cell_type": "code",
   "execution_count": 8,
   "metadata": {},
   "outputs": [],
   "source": [
    "# implements the acceptance criterion\n",
    "def acceptance_criterion(perm1: np.array, perm2: np.array):\n",
    "     return perm1 if cost(perm1, d, w) < cost(perm2, d, w) else perm2\n"
   ]
  },
  {
   "cell_type": "code",
   "execution_count": 19,
   "metadata": {},
   "outputs": [],
   "source": [
    "# follows notation from paper \n",
    "\n",
    "def iterated_local_search(n_iters: int):\n",
    "    s0 = generate_initial_solution(30)\n",
    "    s  = local_search(s0)\n",
    "    \n",
    "\n",
    "    curr_best = s\n",
    "    cost_history = [cost(s,d,w)]\n",
    "    perm_history = [s]\n",
    "    n = len(s0)\n",
    "\n",
    "    for _ in trange(n_iters):\n",
    "        s1 = peturbation(s, k=n//4)\n",
    "        s2 = local_search(s1)\n",
    "        curr_best = acceptance_criterion(curr_best, s2)\n",
    "        \n",
    "        cost_history.append(cost(curr_best, d, w))\n",
    "        perm_history.append(curr_best)\n",
    "\n",
    "    return s, cost_history, perm_history"
   ]
  },
  {
   "cell_type": "markdown",
   "metadata": {},
   "source": [
    "### Verification\n",
    "\n",
    "a small test case to verify the hueristic is correclty implemeneted. "
   ]
  },
  {
   "cell_type": "code",
   "execution_count": 27,
   "metadata": {},
   "outputs": [
    {
     "name": "stderr",
     "output_type": "stream",
     "text": [
      "  0%|          | 0/10000 [00:00<?, ?it/s]"
     ]
    },
    {
     "name": "stderr",
     "output_type": "stream",
     "text": [
      "100%|██████████| 10000/10000 [02:30<00:00, 66.63it/s]\n"
     ]
    }
   ],
   "source": [
    "soln, cost_hist, perm_hist = iterated_local_search(10_000)"
   ]
  },
  {
   "cell_type": "code",
   "execution_count": 28,
   "metadata": {},
   "outputs": [
    {
     "data": {
      "text/plain": [
       "[<matplotlib.lines.Line2D at 0x117d4c640>]"
      ]
     },
     "execution_count": 28,
     "metadata": {},
     "output_type": "execute_result"
    },
    {
     "data": {
      "image/png": "[encoded data removed]",
      "text/plain": [
       "<Figure size 640x480 with 1 Axes>"
      ]
     },
     "metadata": {},
     "output_type": "display_data"
    }
   ],
   "source": [
    "plt.plot(cost_hist)"
   ]
  },
  {
   "cell_type": "markdown",
   "metadata": {},
   "source": [
    "### Automated Testing"
   ]
  },
  {
   "cell_type": "code",
   "execution_count": 12,
   "metadata": {},
   "outputs": [],
   "source": [
    "# code for automating the opening, closing and testing of a hueristic on every instance in QAPLib\n",
    "def test_hueristic():\n",
    "\n",
    "    for filename in os.listdir(instance_path):\n",
    "    \n",
    "        file_it = iter(read_integers(instance_path+filename))\n",
    "\n",
    "        # open QAP instance param's \n",
    "        n = next(file_it)\n",
    "        w = np.array([[next(file_it) for j in range(n)] for i in range(n)])\n",
    "        d = np.array([[next(file_it) for j in range(n)] for i in range(n)])\n",
    "\n",
    "        # TODO: run the hueristic on the problem instance by calling whatever hueristic we have defined here, and then write to file\n",
    "\n",
    "    return"
   ]
  }
 ],
 "metadata": {
  "kernelspec": {
   "display_name": ".venv",
   "language": "python",
   "name": "python3"
  },
  "language_info": {
   "codemirror_mode": {
    "name": "ipython",
    "version": 3
   },
   "file_extension": ".py",
   "mimetype": "text/x-python",
   "name": "python",
   "nbconvert_exporter": "python",
   "pygments_lexer": "ipython3",
   "version": "3.9.6"
  },
  "orig_nbformat": 4
 },
 "nbformat": 4,
 "nbformat_minor": 2
}
