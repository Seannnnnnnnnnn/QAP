{
 "cells": [
  {
   "cell_type": "markdown",
   "metadata": {},
   "source": [
    "### Boiler Plate Code"
   ]
  },
  {
   "cell_type": "code",
   "execution_count": 1,
   "metadata": {},
   "outputs": [],
   "source": [
    "import random\n",
    "import os\n",
    "\n",
    "import numpy as np\n",
    "import seaborn as sns\n",
    "import matplotlib.pyplot as plt\n",
    "from tqdm import trange\n",
    "%matplotlib inline"
   ]
  },
  {
   "cell_type": "code",
   "execution_count": 3,
   "metadata": {},
   "outputs": [],
   "source": [
    "# set up params for plots\n",
    "SMALL, MED, LARGE, LW = 18, 24, 30, 3\n",
    "plt.rc('axes', titlesize=SMALL)    # fontsize of the axes title\n",
    "plt.rc('axes', labelsize=SMALL)    # fontsize of the x and y labels\n",
    "plt.rc('xtick', labelsize=SMALL) # fontsize of the tick labels\n",
    "plt.rc('ytick', labelsize=SMALL) # fontsize of the tick labels\n",
    "plt.rc('legend', fontsize=MED)   # legend fontsize\n",
    "plt.rc('font', size=SMALL)       # controls default text sizes"
   ]
  },
  {
   "cell_type": "markdown",
   "metadata": {},
   "source": [
    "##### Iterated Local Search\n",
    "\n",
    "We closely follow the paper: ILS for QAP (Sultze '05) to implement the below method"
   ]
  },
  {
   "cell_type": "code",
   "execution_count": 4,
   "metadata": {},
   "outputs": [],
   "source": [
    "class IteratedLocalSearch:\n",
    "    def __init__(self, w, d):\n",
    "        self.W = w\n",
    "        self.D = d\n",
    "        self.n = w.shape[0]\n",
    "\n",
    "    def cost(self, X):\n",
    "        return np.sum(self.W * self.D[X][:, X])\n",
    "    \n",
    "    # Subroutines\n",
    "    def generate_initial_solution(self):\n",
    "        return np.random.permutation(self.n)\n",
    "    \n",
    "    @staticmethod\n",
    "    def local_search(perm: np.array):\n",
    "        n = len(perm)\n",
    "        curr_best = np.copy(perm)  # create a deep copy\n",
    "        \n",
    "        for i in range(1, n-2):\n",
    "            for j in range(i+1, n):\n",
    "                \n",
    "                new_perm = np.copy(curr_best)\n",
    "                new_perm[i:j] = curr_best[j-1:i-1:-1]\n",
    "                \n",
    "                if cost(new_perm, d, w) < cost(curr_best, d, w): \n",
    "                    curr_best = new_perm        \n",
    "        \n",
    "        return curr_best\n",
    "    \n",
    "    @staticmethod\n",
    "    def acceptance_criterion(perm1: np.array, perm2: np.array):\n",
    "        return perm1 if cost(perm1, d, w) < cost(perm2, d, w) else perm2\n",
    "    \n",
    "    @staticmethod\n",
    "    def peturbation(perm: np.array, k: int):\n",
    "        new_perm = perm[:]\n",
    "        # of course, this inexact method can result in pertubations of size < k, but these occur with sufficiently small probability \n",
    "        for _ in range(k): \n",
    "            i = random.randint(0, len(perm)-1)\n",
    "            j = random.randint(0, len(perm)-1)\n",
    "            new_perm[i], new_perm[j] = new_perm[j], new_perm[i]   \n",
    "        \n",
    "        return new_perm\n",
    "    \n",
    "\n",
    "    # ILS implementation\n",
    "    def iterated_local_search(self, n_iters: int, write_to_file=False):\n",
    "        s0 = self.generate_initial_solution()\n",
    "        s  = self.local_search(s0)\n",
    "        \n",
    "        curr_best = s\n",
    "        cost_history = [cost(s,d,w)]\n",
    "        perm_history = [s]\n",
    "        n = len(s0)\n",
    "\n",
    "        for _ in trange(n_iters):\n",
    "            s1 = self.peturbation(s, k=n//2)\n",
    "            s2 = self.local_search(s1)\n",
    "            curr_best = self.acceptance_criterion(curr_best, s2)\n",
    "            \n",
    "            cost_history.append(cost(curr_best, d, w))\n",
    "            perm_history.append(curr_best)\n",
    "\n",
    "        return s, cost_history, perm_history"
   ]
  },
  {
   "cell_type": "markdown",
   "metadata": {},
   "source": [
    "### Verification\n",
    "\n",
    "we verify the correctness of our implementation by plotting cost history on the following test instance "
   ]
  },
  {
   "cell_type": "code",
   "execution_count": 5,
   "metadata": {},
   "outputs": [
    {
     "name": "stderr",
     "output_type": "stream",
     "text": [
      "100%|██████████| 10000/10000 [02:25<00:00, 68.54it/s]\n"
     ]
    }
   ],
   "source": [
    "# for managing file opening and closing\n",
    "def read_integers(filename):\n",
    "    with open(filename) as f:\n",
    "        return [int(elem) for elem in f.read().split()]\n",
    "\n",
    "file_path = '../QAPInstances/tai30b.dat'\n",
    "file_it = iter(read_integers('../QAPInstances/tai30b.dat'))\n",
    "\n",
    "# Number of points\n",
    "n = next(file_it)\n",
    "\n",
    "# Distance between locations\n",
    "w = np.array([[next(file_it) for j in range(n)] for i in range(n)])\n",
    "d = np.array([[next(file_it) for j in range(n)] for i in range(n)])\n",
    "\n",
    "ils = IteratedLocalSearch(w, d)\n",
    "soln, cost_hist, perm_hist = ils.iterated_local_search(10_000)"
   ]
  },
  {
   "cell_type": "code",
   "execution_count": 6,
   "metadata": {},
   "outputs": [
    {
     "data": {
      "text/plain": [
       "[<matplotlib.lines.Line2D at 0x11f947190>]"
      ]
     },
     "execution_count": 6,
     "metadata": {},
     "output_type": "execute_result"
    },
    {
     "data": {
      "image/png": "[encoded data removed]",
      "text/plain": [
       "<Figure size 640x480 with 1 Axes>"
      ]
     },
     "metadata": {},
     "output_type": "display_data"
    }
   ],
   "source": [
    "plt.plot(cost_hist)"
   ]
  },
  {
   "cell_type": "markdown",
   "metadata": {},
   "source": [
    "### Automated Testing\n",
    "code for automating the opening, closing and testing of a hueristic on every instance in QAPLib"
   ]
  },
  {
   "cell_type": "code",
   "execution_count": 52,
   "metadata": {},
   "outputs": [],
   "source": [
    "instance_path = '../QAPInstances/'\n",
    "soln_path     = '../QAPSolns/'\n",
    "\n",
    "def open_solution(filename: str):\n",
    "    file_it = iter(read_integers(filename))\n",
    "    _ = next(file_it)    # this is just how the files within the lib are formatted\n",
    "    return next(file_it)\n",
    "\n",
    "        \n",
    "\n",
    "def test_hueristic():\n",
    "\n",
    "    for filename in os.listdir(instance_path):\n",
    "    \n",
    "        file_it = iter(read_integers(instance_path+filename))\n",
    "\n",
    "        # open QAP instance param's \n",
    "        n = next(file_it)\n",
    "        w = np.array([[next(file_it) for j in range(n)] for i in range(n)])\n",
    "        d = np.array([[next(file_it) for j in range(n)] for i in range(n)])\n",
    "\n",
    "        # generate an instance\n",
    "        ils = IteratedLocalSearch(w, d)\n",
    "\n",
    "        # open up corresponding soln from QAPLib: \n",
    "        soln_file = filename[:-4]+'.sln' # this removes the .dat from filename\n",
    "        \n",
    "        try:\n",
    "            soln = open_solution(soln_path+soln_file)\n",
    "\n",
    "        except FileNotFoundError:\n",
    "            os.remove(instance_path+filename) # any instances without corresponding solution files are deleted\n",
    "\n",
    "    return"
   ]
  },
  {
   "cell_type": "code",
   "execution_count": null,
   "metadata": {},
   "outputs": [],
   "source": []
  }
 ],
 "metadata": {
  "kernelspec": {
   "display_name": ".venv",
   "language": "python",
   "name": "python3"
  },
  "language_info": {
   "codemirror_mode": {
    "name": "ipython",
    "version": 3
   },
   "file_extension": ".py",
   "mimetype": "text/x-python",
   "name": "python",
   "nbconvert_exporter": "python",
   "pygments_lexer": "ipython3",
   "version": "3.9.6"
  },
  "orig_nbformat": 4
 },
 "nbformat": 4,
 "nbformat_minor": 2
}
