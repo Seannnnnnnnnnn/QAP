{
 "cells": [
  {
   "cell_type": "markdown",
   "metadata": {},
   "source": [
    "### Boiler Plate Code"
   ]
  },
  {
   "cell_type": "code",
   "execution_count": 1,
   "metadata": {},
   "outputs": [],
   "source": [
    "import random\n",
    "import os\n",
    "\n",
    "import numpy as np\n",
    "import matplotlib.pyplot as plt\n",
    "from tqdm import trange, tqdm\n",
    "from time import time\n",
    "from QAP_heuristic import QAP_heuristic\n",
    "%matplotlib inline"
   ]
  },
  {
   "cell_type": "code",
   "execution_count": 2,
   "metadata": {},
   "outputs": [],
   "source": [
    "# set up params for plots\n",
    "SMALL, MED, LARGE, LW = 18, 24, 30, 3\n",
    "plt.rc('axes', titlesize=SMALL)    # fontsize of the axes title\n",
    "plt.rc('axes', labelsize=SMALL)    # fontsize of the x and y labels\n",
    "plt.rc('xtick', labelsize=SMALL) # fontsize of the tick labels\n",
    "plt.rc('ytick', labelsize=SMALL) # fontsize of the tick labels\n",
    "plt.rc('legend', fontsize=MED)   # legend fontsize\n",
    "plt.rc('font', size=SMALL)       # controls default text sizes"
   ]
  },
  {
   "cell_type": "markdown",
   "metadata": {},
   "source": [
    "##### Iterated Local Search\n",
    "\n",
    "We closely follow the paper: ILS for QAP (Sultze '05) to implement the below method"
   ]
  },
  {
   "cell_type": "code",
   "execution_count": 11,
   "metadata": {},
   "outputs": [],
   "source": [
    "class IteratedLocalSearch(QAP_heuristic):\n",
    "    def __init__(self, w, d) -> None:\n",
    "        super().__init__(w, d)\n",
    "    \n",
    "    # Subroutines\n",
    "    def generate_initial_solution(self):\n",
    "        return np.random.permutation(self.n)\n",
    "    \n",
    "    \n",
    "    def local_search(self, perm: np.array):\n",
    "        n = len(perm)\n",
    "        curr_best = np.copy(perm)  # create a deep copy\n",
    "        \n",
    "        for i in range(1, n-2):\n",
    "            for j in range(i+1, n):\n",
    "                \n",
    "                new_perm = np.copy(curr_best)\n",
    "                new_perm[i:j] = curr_best[j-1:i-1:-1]\n",
    "                \n",
    "                if self.cost(new_perm) < self.cost(curr_best): \n",
    "                    curr_best = new_perm        \n",
    "        \n",
    "        return curr_best\n",
    "    \n",
    "    \n",
    "    def acceptance_criterion(self, perm1: np.array, perm2: np.array):\n",
    "        return perm1 if self.cost(perm1) < self.cost(perm2) else perm2\n",
    "    \n",
    "    @staticmethod\n",
    "    def peturbation(perm: np.array, k: int):\n",
    "        new_perm = perm[:]\n",
    "        # of course, this inexact method can result in pertubations of size < k, but these occur with sufficiently small probability \n",
    "        for _ in range(k): \n",
    "            i = random.randint(0, len(perm)-1)\n",
    "            j = random.randint(0, len(perm)-1)\n",
    "            new_perm[i], new_perm[j] = new_perm[j], new_perm[i]   \n",
    "        \n",
    "        return new_perm\n",
    "    \n",
    "\n",
    "    # ILS implementation\n",
    "    def solve(self, n_iters: int):\n",
    "        s0 = self.generate_initial_solution()\n",
    "        s  = self.local_search(s0)\n",
    "        \n",
    "        curr_best = s\n",
    "        cost_history = [self.cost(s)]\n",
    "        perm_history = [s]\n",
    "        n = len(s0)\n",
    "\n",
    "        for _ in range(n_iters):\n",
    "            \n",
    "            if time() > self.MAX_CPU_TIME: break\n",
    "            \n",
    "            s1 = self.peturbation(s, k=n//2)\n",
    "            s2 = self.local_search(s1)\n",
    "            curr_best = self.acceptance_criterion(curr_best, s2)\n",
    "            \n",
    "            cost_history.append(self.cost(curr_best))\n",
    "            perm_history.append(curr_best)\n",
    "\n",
    "        return curr_best, cost_history, perm_history"
   ]
  },
  {
   "cell_type": "markdown",
   "metadata": {},
   "source": [
    "### Verification\n",
    "\n",
    "we verify the correctness of our implementation by plotting cost history on the following test instance "
   ]
  },
  {
   "cell_type": "code",
   "execution_count": 10,
   "metadata": {},
   "outputs": [
    {
     "name": "stdout",
     "output_type": "stream",
     "text": [
      "402207785\n"
     ]
    }
   ],
   "source": [
    "# for managing file opening and closing\n",
    "def read_integers(filename):\n",
    "    with open(filename) as f:\n",
    "        return [int(elem) for elem in f.read().split()]\n",
    "\n",
    "file_path = '../QAPInstances/tai15b.dat'\n",
    "file_it = iter(read_integers(file_path))\n",
    "\n",
    "# Number of points\n",
    "n = next(file_it)\n",
    "\n",
    "# Distance between locations\n",
    "w = np.array([[next(file_it) for j in range(n)] for i in range(n)])\n",
    "d = np.array([[next(file_it) for j in range(n)] for i in range(n)])\n",
    "\n",
    "ils = IteratedLocalSearch(w, d)\n",
    "soln, cost_hist, perm_hist = ils.solve(100_000)\n",
    "print(ils.cost(soln))"
   ]
  },
  {
   "cell_type": "code",
   "execution_count": 9,
   "metadata": {},
   "outputs": [
    {
     "data": {
      "text/plain": [
       "[<matplotlib.lines.Line2D at 0x111fde340>]"
      ]
     },
     "execution_count": 9,
     "metadata": {},
     "output_type": "execute_result"
    },
    {
     "data": {
      "image/png": "[encoded data removed]",
      "text/plain": [
       "<Figure size 640x480 with 1 Axes>"
      ]
     },
     "metadata": {},
     "output_type": "display_data"
    }
   ],
   "source": [
    "plt.plot(cost_hist)"
   ]
  },
  {
   "cell_type": "markdown",
   "metadata": {},
   "source": [
    "### Automated Testing\n",
    "code for automating the opening, closing and testing of a hueristic on every instance in QAPLib"
   ]
  },
  {
   "cell_type": "code",
   "execution_count": 6,
   "metadata": {},
   "outputs": [],
   "source": [
    "import csv\n",
    "\n",
    "instance_path = '../QAPInstances/'\n",
    "soln_path     = '../QAPSolns/'\n",
    "\n",
    "def open_solution(filename: str):\n",
    "    file_it = iter(read_integers(filename))\n",
    "    _ = next(file_it)    # this is just how the files within the lib are formatted\n",
    "    return next(file_it)\n",
    "\n",
    "        \n",
    "\n",
    "def test_hueristic(n_iters=10_000, tai_only=False):\n",
    "    \"\"\"\n",
    "    n_iters: number of iterations on each test instance\n",
    "    tai_only: if True, restricts testing to the Tai instances, reducing computation time\n",
    "    \"\"\"\n",
    "\n",
    "    with open('../results/ils.csv', mode='w') as f: \n",
    "        writer = csv.writer(f)\n",
    "\n",
    "        for filename in os.listdir(instance_path):\n",
    "            \n",
    "            # skips any instances that are not Tai\n",
    "            if tai_only and 'tai' not in filename: continue  \n",
    "\n",
    "            file_it = iter(read_integers(instance_path+filename))\n",
    "\n",
    "            # open QAP instance param's \n",
    "            n = next(file_it)\n",
    "            w = np.array([[next(file_it) for j in range(n)] for i in range(n)])\n",
    "            d = np.array([[next(file_it) for j in range(n)] for i in range(n)])\n",
    "\n",
    "            # generate an instance\n",
    "            ils = IteratedLocalSearch(w, d)\n",
    "\n",
    "            # open up corresponding soln from QAPLib: \n",
    "            soln_file = filename[:-4]+'.sln' # this removes the .dat from filename\n",
    "            \n",
    "            try:\n",
    "                qap_soln = open_solution(soln_path+soln_file)\n",
    "                huerstic_soln, _, _ = ils.solve(n_iters)\n",
    "\n",
    "                # compute gap\n",
    "                gap = 100*(ils.cost(huerstic_soln) - qap_soln)/qap_soln\n",
    "                print(filename, gap)\n",
    "                writer.writerow([filename, gap])\n",
    "\n",
    "            # any instances without corresponding solution files are deleted\n",
    "            except FileNotFoundError:\n",
    "                os.remove(instance_path+filename) \n",
    "        \n",
    "    return"
   ]
  },
  {
   "cell_type": "code",
   "execution_count": 12,
   "metadata": {},
   "outputs": [
    {
     "name": "stdout",
     "output_type": "stream",
     "text": [
      "tai35b.dat 13.698265902870208\n",
      "tai15a.dat 2.976193542736738\n",
      "tai35a.dat 8.57637607235667\n",
      "tai15b.dat 0.43946454599636187\n",
      "tai80b.dat 20.56360259252957\n",
      "tai150b.dat 16.21372625672288\n",
      "tai80a.dat 8.697014575103207\n",
      "tai100a.dat 8.531570600802775\n",
      "tai25a.dat 6.904569348968864\n",
      "tai100b.dat 20.381018913892127\n",
      "tai25b.dat 7.469208447362004\n",
      "tai64c.dat 0.43751697264118006\n",
      "tai12a.dat 0.0\n",
      "tai12b.dat 0.028957358971289062\n",
      "tai50b.dat 19.727266626861354\n",
      "tai50a.dat 9.265173131265191\n",
      "tai30b.dat 14.683912437931957\n",
      "tai30a.dat 8.473466927298468\n",
      "tai40a.dat 9.390227975676648\n",
      "tai17a.dat 3.5440371524078307\n",
      "tai256c.dat 9.71946965919525\n",
      "tai60b.dat 18.54771980043756\n",
      "tai40b.dat 18.057169528133837\n",
      "tai60a.dat 9.412761266295881\n",
      "tai20a.dat 6.107050358075971\n",
      "tai20b.dat 3.6189689726748413\n"
     ]
    }
   ],
   "source": [
    "test_hueristic(100_000, tai_only=True)"
   ]
  }
 ],
 "metadata": {
  "kernelspec": {
   "display_name": ".venv",
   "language": "python",
   "name": "python3"
  },
  "language_info": {
   "codemirror_mode": {
    "name": "ipython",
    "version": 3
   },
   "file_extension": ".py",
   "mimetype": "text/x-python",
   "name": "python",
   "nbconvert_exporter": "python",
   "pygments_lexer": "ipython3",
   "version": "3.9.6"
  },
  "orig_nbformat": 4
 },
 "nbformat": 4,
 "nbformat_minor": 2
}
