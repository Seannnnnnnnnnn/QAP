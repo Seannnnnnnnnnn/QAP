{
 "cells": [
  {
   "cell_type": "markdown",
   "metadata": {},
   "source": [
    "### Boiler Plate Code"
   ]
  },
  {
   "cell_type": "code",
   "execution_count": 27,
   "metadata": {},
   "outputs": [],
   "source": [
    "import random\n",
    "import os\n",
    "\n",
    "import numpy as np\n",
    "import seaborn as sns\n",
    "import matplotlib.pyplot as plt\n",
    "from tqdm import trange, tqdm\n",
    "%matplotlib inline"
   ]
  },
  {
   "cell_type": "code",
   "execution_count": 28,
   "metadata": {},
   "outputs": [],
   "source": [
    "# set up params for plots\n",
    "SMALL, MED, LARGE, LW = 18, 24, 30, 3\n",
    "plt.rc('axes', titlesize=SMALL)    # fontsize of the axes title\n",
    "plt.rc('axes', labelsize=SMALL)    # fontsize of the x and y labels\n",
    "plt.rc('xtick', labelsize=SMALL) # fontsize of the tick labels\n",
    "plt.rc('ytick', labelsize=SMALL) # fontsize of the tick labels\n",
    "plt.rc('legend', fontsize=MED)   # legend fontsize\n",
    "plt.rc('font', size=SMALL)       # controls default text sizes"
   ]
  },
  {
   "cell_type": "markdown",
   "metadata": {},
   "source": [
    "##### Iterated Local Search\n",
    "\n",
    "We closely follow the paper: ILS for QAP (Sultze '05) to implement the below method"
   ]
  },
  {
   "cell_type": "code",
   "execution_count": 29,
   "metadata": {},
   "outputs": [],
   "source": [
    "class IteratedLocalSearch:\n",
    "    def __init__(self, w, d):\n",
    "        self.W = w\n",
    "        self.D = d\n",
    "        self.n = w.shape[0]\n",
    "\n",
    "    def cost(self, X):\n",
    "        return np.sum(self.W * self.D[X][:, X])\n",
    "    \n",
    "    # Subroutines\n",
    "    def generate_initial_solution(self):\n",
    "        return np.random.permutation(self.n)\n",
    "    \n",
    "    \n",
    "    def local_search(self, perm: np.array):\n",
    "        n = len(perm)\n",
    "        curr_best = np.copy(perm)  # create a deep copy\n",
    "        \n",
    "        for i in range(1, n-2):\n",
    "            for j in range(i+1, n):\n",
    "                \n",
    "                new_perm = np.copy(curr_best)\n",
    "                new_perm[i:j] = curr_best[j-1:i-1:-1]\n",
    "                \n",
    "                if self.cost(new_perm) < self.cost(curr_best): \n",
    "                    curr_best = new_perm        \n",
    "        \n",
    "        return curr_best\n",
    "    \n",
    "    \n",
    "    def acceptance_criterion(self, perm1: np.array, perm2: np.array):\n",
    "        return perm1 if self.cost(perm1) < self.cost(perm2) else perm2\n",
    "    \n",
    "    @staticmethod\n",
    "    def peturbation(perm: np.array, k: int):\n",
    "        new_perm = perm[:]\n",
    "        # of course, this inexact method can result in pertubations of size < k, but these occur with sufficiently small probability \n",
    "        for _ in range(k): \n",
    "            i = random.randint(0, len(perm)-1)\n",
    "            j = random.randint(0, len(perm)-1)\n",
    "            new_perm[i], new_perm[j] = new_perm[j], new_perm[i]   \n",
    "        \n",
    "        return new_perm\n",
    "    \n",
    "\n",
    "    # ILS implementation\n",
    "    def iterated_local_search(self, n_iters: int, write_to_file=False):\n",
    "        s0 = self.generate_initial_solution()\n",
    "        s  = self.local_search(s0)\n",
    "        \n",
    "        curr_best = s\n",
    "        cost_history = [self.cost(s)]\n",
    "        perm_history = [s]\n",
    "        n = len(s0)\n",
    "\n",
    "        for _ in trange(n_iters):\n",
    "            s1 = self.peturbation(s, k=n//2)\n",
    "            s2 = self.local_search(s1)\n",
    "            curr_best = self.acceptance_criterion(curr_best, s2)\n",
    "            \n",
    "            cost_history.append(self.cost(curr_best))\n",
    "            perm_history.append(curr_best)\n",
    "\n",
    "        return s, cost_history, perm_history"
   ]
  },
  {
   "cell_type": "markdown",
   "metadata": {},
   "source": [
    "### Verification\n",
    "\n",
    "we verify the correctness of our implementation by plotting cost history on the following test instance "
   ]
  },
  {
   "cell_type": "code",
   "execution_count": 30,
   "metadata": {},
   "outputs": [
    {
     "name": "stderr",
     "output_type": "stream",
     "text": [
      "100%|██████████| 1000/1000 [00:15<00:00, 66.44it/s]\n"
     ]
    }
   ],
   "source": [
    "# for managing file opening and closing\n",
    "def read_integers(filename):\n",
    "    with open(filename) as f:\n",
    "        return [int(elem) for elem in f.read().split()]\n",
    "\n",
    "file_path = '../QAPInstances/tai30b.dat'\n",
    "file_it = iter(read_integers('../QAPInstances/tai30b.dat'))\n",
    "\n",
    "# Number of points\n",
    "n = next(file_it)\n",
    "\n",
    "# Distance between locations\n",
    "w = np.array([[next(file_it) for j in range(n)] for i in range(n)])\n",
    "d = np.array([[next(file_it) for j in range(n)] for i in range(n)])\n",
    "\n",
    "ils = IteratedLocalSearch(w, d)\n",
    "soln, cost_hist, perm_hist = ils.iterated_local_search(1_000)"
   ]
  },
  {
   "cell_type": "code",
   "execution_count": 31,
   "metadata": {},
   "outputs": [
    {
     "data": {
      "text/plain": [
       "[<matplotlib.lines.Line2D at 0x1269a6c40>]"
      ]
     },
     "execution_count": 31,
     "metadata": {},
     "output_type": "execute_result"
    },
    {
     "data": {
      "image/png": "[encoded data removed]",
      "text/plain": [
       "<Figure size 640x480 with 1 Axes>"
      ]
     },
     "metadata": {},
     "output_type": "display_data"
    }
   ],
   "source": [
    "plt.plot(cost_hist)"
   ]
  },
  {
   "cell_type": "markdown",
   "metadata": {},
   "source": [
    "### Automated Testing\n",
    "code for automating the opening, closing and testing of a hueristic on every instance in QAPLib"
   ]
  },
  {
   "cell_type": "code",
   "execution_count": 34,
   "metadata": {},
   "outputs": [],
   "source": [
    "instance_path = '../QAPInstances/'\n",
    "soln_path     = '../QAPSolns/'\n",
    "\n",
    "def open_solution(filename: str):\n",
    "    file_it = iter(read_integers(filename))\n",
    "    _ = next(file_it)    # this is just how the files within the lib are formatted\n",
    "    return next(file_it)\n",
    "\n",
    "        \n",
    "\n",
    "def test_hueristic(n_iters=10_000, tai_only=False):\n",
    "    \"\"\"\n",
    "    n_iters: number of iterations on each test instance\n",
    "    tai_only: if True, restricts testing to the Tai instances, reducing computation time\n",
    "    \"\"\"\n",
    "    \n",
    "    results = [] # for storing results\n",
    "\n",
    "    for filename in tqdm(os.listdir(instance_path)):\n",
    "        \n",
    "        # skips any instances that are not Tai\n",
    "        if tai_only and 'tai' not in filename: continue  \n",
    "\n",
    "        file_it = iter(read_integers(instance_path+filename))\n",
    "\n",
    "        # open QAP instance param's \n",
    "        n = next(file_it)\n",
    "        w = np.array([[next(file_it) for j in range(n)] for i in range(n)])\n",
    "        d = np.array([[next(file_it) for j in range(n)] for i in range(n)])\n",
    "\n",
    "        # generate an instance\n",
    "        ils = IteratedLocalSearch(w, d)\n",
    "\n",
    "        # open up corresponding soln from QAPLib: \n",
    "        soln_file = filename[:-4]+'.sln' # this removes the .dat from filename\n",
    "        \n",
    "        try:\n",
    "            qap_soln = open_solution(soln_path+soln_file)\n",
    "            huerstic_soln, _, _ = ils.iterated_local_search(n_iters)\n",
    "\n",
    "            # compute gap\n",
    "            gap = 100*(ils.cost(huerstic_soln) - qap_soln)/qap_soln\n",
    "            results.append((soln_file, gap))\n",
    "            \n",
    "\n",
    "        # any instances without corresponding solution files are deleted\n",
    "        except FileNotFoundError:\n",
    "            os.remove(instance_path+filename) \n",
    "    \n",
    "    # just printing results for now, but will need to save to file or something \n",
    "    print(results)\n",
    "\n",
    "    return"
   ]
  },
  {
   "cell_type": "code",
   "execution_count": 35,
   "metadata": {},
   "outputs": [
    {
     "name": "stderr",
     "output_type": "stream",
     "text": [
      "100%|██████████| 100/100 [00:02<00:00, 44.48it/s]\n",
      "100%|██████████| 100/100 [00:00<00:00, 338.73it/s]\n",
      "100%|██████████| 100/100 [00:02<00:00, 46.90it/s]\n",
      "100%|██████████| 100/100 [00:00<00:00, 325.03it/s]\n",
      "100%|██████████| 100/100 [00:25<00:00,  3.98it/s]\n",
      "100%|██████████| 100/100 [03:11<00:00,  1.92s/it]\n",
      "100%|██████████| 100/100 [00:24<00:00,  4.16it/s]\n",
      "100%|██████████| 100/100 [00:47<00:00,  2.11it/s]\n",
      "100%|██████████| 100/100 [00:00<00:00, 101.35it/s]\n",
      "100%|██████████| 100/100 [00:45<00:00,  2.22it/s]\n",
      "100%|██████████| 100/100 [00:00<00:00, 103.16it/s]\n",
      "100%|██████████| 100/100 [00:09<00:00, 10.16it/s]\n",
      "100%|██████████| 100/100 [00:00<00:00, 571.60it/s]\n",
      "100%|██████████| 100/100 [00:00<00:00, 572.78it/s]\n",
      "100%|██████████| 100/100 [00:05<00:00, 19.69it/s]\n",
      "100%|██████████| 100/100 [00:05<00:00, 19.30it/s]\n",
      "100%|██████████| 100/100 [00:01<00:00, 69.84it/s]\n",
      "100%|██████████| 100/100 [00:01<00:00, 69.54it/s]\n",
      "100%|██████████| 100/100 [00:02<00:00, 35.42it/s]\n",
      "100%|██████████| 100/100 [00:00<00:00, 263.17it/s]\n",
      "100%|██████████| 100/100 [26:48<00:00, 16.09s/it]\n",
      "100%|██████████| 100/100 [00:05<00:00, 18.22it/s]\n",
      "100%|██████████| 100/100 [00:01<00:00, 53.55it/s]\n",
      "100%|██████████| 100/100 [00:05<00:00, 18.22it/s]\n",
      "100%|██████████| 100/100 [00:00<00:00, 276.97it/s]\n",
      "100%|██████████| 100/100 [00:00<00:00, 277.55it/s]\n",
      "100%|██████████| 127/127 [33:34<00:00, 15.86s/it]"
     ]
    },
    {
     "name": "stdout",
     "output_type": "stream",
     "text": [
      "[('tai35b.sln', 78.23549542101385), ('tai15a.sln', 25.726017093664833), ('tai35a.sln', 23.588419827894445), ('tai15b.sln', 3.8462488014164244), ('tai80b.sln', 56.383199569316815), ('tai150b.sln', 32.53693050005149), ('tai80a.sln', 16.788451805679514), ('tai100a.sln', 13.888444232613889), ('tai25a.sln', 26.682578628852625), ('tai100b.sln', 51.454035638229065), ('tai25b.sln', 152.8699273889646), ('tai64c.sln', 62.27838579944912), ('tai12a.sln', 45.67588763724512), ('tai12b.sln', 128.34445523461656), ('tai50b.sln', 82.03367912233288), ('tai50a.sln', 18.061122589392234), ('tai30b.sln', 122.17745687832435), ('tai30a.sln', 18.272679971795444), ('tai40a.sln', 19.86124604618124), ('tai17a.sln', 26.549982513643425), ('tai256c.sln', 18.152913671962743), ('tai60b.sln', 79.92105782373483), ('tai40b.sln', 79.81296043517223), ('tai60a.sln', 18.199041293861942), ('tai20a.sln', 27.9901973326965), ('tai20b.sln', 122.77691179751857)]\n"
     ]
    },
    {
     "name": "stderr",
     "output_type": "stream",
     "text": [
      "\n"
     ]
    }
   ],
   "source": [
    "test_hueristic(100, tai_only=True)"
   ]
  },
  {
   "cell_type": "code",
   "execution_count": null,
   "metadata": {},
   "outputs": [],
   "source": []
  }
 ],
 "metadata": {
  "kernelspec": {
   "display_name": ".venv",
   "language": "python",
   "name": "python3"
  },
  "language_info": {
   "codemirror_mode": {
    "name": "ipython",
    "version": 3
   },
   "file_extension": ".py",
   "mimetype": "text/x-python",
   "name": "python",
   "nbconvert_exporter": "python",
   "pygments_lexer": "ipython3",
   "version": "3.9.6"
  },
  "orig_nbformat": 4
 },
 "nbformat": 4,
 "nbformat_minor": 2
}
