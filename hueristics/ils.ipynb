{
 "cells": [
  {
   "cell_type": "markdown",
   "metadata": {},
   "source": [
    "### Boiler Plate Code"
   ]
  },
  {
   "cell_type": "code",
   "execution_count": 15,
   "metadata": {},
   "outputs": [],
   "source": [
    "import random\n",
    "import os\n",
    "\n",
    "import numpy as np\n",
    "import seaborn as sns\n",
    "import matplotlib.pyplot as plt\n",
    "from tqdm import trange, tqdm\n",
    "%matplotlib inline"
   ]
  },
  {
   "cell_type": "code",
   "execution_count": 16,
   "metadata": {},
   "outputs": [],
   "source": [
    "# set up params for plots\n",
    "SMALL, MED, LARGE, LW = 18, 24, 30, 3\n",
    "plt.rc('axes', titlesize=SMALL)    # fontsize of the axes title\n",
    "plt.rc('axes', labelsize=SMALL)    # fontsize of the x and y labels\n",
    "plt.rc('xtick', labelsize=SMALL) # fontsize of the tick labels\n",
    "plt.rc('ytick', labelsize=SMALL) # fontsize of the tick labels\n",
    "plt.rc('legend', fontsize=MED)   # legend fontsize\n",
    "plt.rc('font', size=SMALL)       # controls default text sizes"
   ]
  },
  {
   "cell_type": "markdown",
   "metadata": {},
   "source": [
    "##### Iterated Local Search\n",
    "\n",
    "We closely follow the paper: ILS for QAP (Sultze '05) to implement the below method"
   ]
  },
  {
   "cell_type": "code",
   "execution_count": 17,
   "metadata": {},
   "outputs": [],
   "source": [
    "class IteratedLocalSearch:\n",
    "    def __init__(self, w, d):\n",
    "        self.W = w\n",
    "        self.D = d\n",
    "        self.n = w.shape[0]\n",
    "\n",
    "    def cost(self, X):\n",
    "        return np.sum(self.W * self.D[X][:, X])\n",
    "    \n",
    "    # Subroutines\n",
    "    def generate_initial_solution(self):\n",
    "        return np.random.permutation(self.n)\n",
    "    \n",
    "    \n",
    "    def local_search(self, perm: np.array):\n",
    "        n = len(perm)\n",
    "        curr_best = np.copy(perm)  # create a deep copy\n",
    "        \n",
    "        for i in range(1, n-2):\n",
    "            for j in range(i+1, n):\n",
    "                \n",
    "                new_perm = np.copy(curr_best)\n",
    "                new_perm[i:j] = curr_best[j-1:i-1:-1]\n",
    "                \n",
    "                if self.cost(new_perm) < self.cost(curr_best): \n",
    "                    curr_best = new_perm        \n",
    "        \n",
    "        return curr_best\n",
    "    \n",
    "    \n",
    "    def acceptance_criterion(self, perm1: np.array, perm2: np.array):\n",
    "        return perm1 if self.cost(perm1) < self.cost(perm2) else perm2\n",
    "    \n",
    "    @staticmethod\n",
    "    def peturbation(perm: np.array, k: int):\n",
    "        new_perm = perm[:]\n",
    "        # of course, this inexact method can result in pertubations of size < k, but these occur with sufficiently small probability \n",
    "        for _ in range(k): \n",
    "            i = random.randint(0, len(perm)-1)\n",
    "            j = random.randint(0, len(perm)-1)\n",
    "            new_perm[i], new_perm[j] = new_perm[j], new_perm[i]   \n",
    "        \n",
    "        return new_perm\n",
    "    \n",
    "\n",
    "    # ILS implementation\n",
    "    def iterated_local_search(self, n_iters: int, write_to_file=False):\n",
    "        s0 = self.generate_initial_solution()\n",
    "        s  = self.local_search(s0)\n",
    "        \n",
    "        curr_best = s\n",
    "        cost_history = [self.cost(s)]\n",
    "        perm_history = [s]\n",
    "        n = len(s0)\n",
    "\n",
    "        for _ in trange(n_iters):\n",
    "            s1 = self.peturbation(s, k=n//2)\n",
    "            s2 = self.local_search(s1)\n",
    "            curr_best = self.acceptance_criterion(curr_best, s2)\n",
    "            \n",
    "            cost_history.append(self.cost(curr_best))\n",
    "            perm_history.append(curr_best)\n",
    "\n",
    "        return s, cost_history, perm_history"
   ]
  },
  {
   "cell_type": "markdown",
   "metadata": {},
   "source": [
    "### Verification\n",
    "\n",
    "we verify the correctness of our implementation by plotting cost history on the following test instance "
   ]
  },
  {
   "cell_type": "code",
   "execution_count": 18,
   "metadata": {},
   "outputs": [
    {
     "name": "stderr",
     "output_type": "stream",
     "text": [
      "  0%|          | 0/1000 [00:00<?, ?it/s]"
     ]
    },
    {
     "name": "stderr",
     "output_type": "stream",
     "text": [
      "100%|██████████| 1000/1000 [00:10<00:00, 95.44it/s]\n"
     ]
    }
   ],
   "source": [
    "# for managing file opening and closing\n",
    "def read_integers(filename):\n",
    "    with open(filename) as f:\n",
    "        return [int(elem) for elem in f.read().split()]\n",
    "\n",
    "file_path = '../QAPInstances/tai30b.dat'\n",
    "file_it = iter(read_integers('../QAPInstances/tai30b.dat'))\n",
    "\n",
    "# Number of points\n",
    "n = next(file_it)\n",
    "\n",
    "# Distance between locations\n",
    "w = np.array([[next(file_it) for j in range(n)] for i in range(n)])\n",
    "d = np.array([[next(file_it) for j in range(n)] for i in range(n)])\n",
    "\n",
    "ils = IteratedLocalSearch(w, d)\n",
    "soln, cost_hist, perm_hist = ils.iterated_local_search(1_000)"
   ]
  },
  {
   "cell_type": "code",
   "execution_count": 19,
   "metadata": {},
   "outputs": [
    {
     "data": {
      "text/plain": [
       "[<matplotlib.lines.Line2D at 0x1269583a0>]"
      ]
     },
     "execution_count": 19,
     "metadata": {},
     "output_type": "execute_result"
    },
    {
     "data": {
      "image/png": "[encoded data removed]",
      "text/plain": [
       "<Figure size 640x480 with 1 Axes>"
      ]
     },
     "metadata": {},
     "output_type": "display_data"
    }
   ],
   "source": [
    "plt.plot(cost_hist)"
   ]
  },
  {
   "cell_type": "markdown",
   "metadata": {},
   "source": [
    "### Automated Testing\n",
    "code for automating the opening, closing and testing of a hueristic on every instance in QAPLib"
   ]
  },
  {
   "cell_type": "code",
   "execution_count": 24,
   "metadata": {},
   "outputs": [],
   "source": [
    "instance_path = '../QAPInstances/'\n",
    "soln_path     = '../QAPSolns/'\n",
    "\n",
    "def open_solution(filename: str):\n",
    "    file_it = iter(read_integers(filename))\n",
    "    _ = next(file_it)    # this is just how the files within the lib are formatted\n",
    "    return next(file_it)\n",
    "\n",
    "        \n",
    "\n",
    "def test_hueristic(n_iters=10_000):\n",
    "    \n",
    "    results = [] # for storing results\n",
    "\n",
    "    for filename in tqdm(os.listdir(instance_path)):\n",
    "    \n",
    "        file_it = iter(read_integers(instance_path+filename))\n",
    "\n",
    "        # open QAP instance param's \n",
    "        n = next(file_it)\n",
    "        w = np.array([[next(file_it) for j in range(n)] for i in range(n)])\n",
    "        d = np.array([[next(file_it) for j in range(n)] for i in range(n)])\n",
    "\n",
    "        # generate an instance\n",
    "        ils = IteratedLocalSearch(w, d)\n",
    "\n",
    "        # open up corresponding soln from QAPLib: \n",
    "        soln_file = filename[:-4]+'.sln' # this removes the .dat from filename\n",
    "        \n",
    "        try:\n",
    "            qap_soln = open_solution(soln_path+soln_file)\n",
    "            huerstic_soln, _, _ = ils.iterated_local_search(n_iters)\n",
    "\n",
    "            # compute gap\n",
    "            gap = 100*(ils.cost(huerstic_soln) - qap_soln)/qap_soln\n",
    "            results.append((soln_file, gap))\n",
    "            \n",
    "\n",
    "        # any instances without corresponding solution files are deleted\n",
    "        except FileNotFoundError:\n",
    "            os.remove(instance_path+filename) \n",
    "    \n",
    "    # just printing results for now, but will need to save to file or something \n",
    "    print(results)\n",
    "\n",
    "    return"
   ]
  },
  {
   "cell_type": "code",
   "execution_count": 25,
   "metadata": {},
   "outputs": [
    {
     "name": "stderr",
     "output_type": "stream",
     "text": [
      "100%|██████████| 10/10 [00:00<00:00, 50.29it/s]\n",
      "100%|██████████| 10/10 [00:00<00:00, 192.46it/s]\n",
      "100%|██████████| 10/10 [00:00<00:00, 410.10it/s]\n",
      "100%|██████████| 10/10 [00:00<00:00, 48.47it/s]\n",
      "100%|██████████| 10/10 [00:00<00:00, 291.83it/s]\n",
      "100%|██████████| 10/10 [00:00<00:00, 15.95it/s]\n",
      "100%|██████████| 10/10 [00:00<00:00, 391.38it/s]\n",
      "100%|██████████| 10/10 [00:00<00:00, 416.90it/s]\n",
      "100%|██████████| 10/10 [00:00<00:00, 392.35it/s]\n",
      "100%|██████████| 10/10 [00:00<00:00, 66.95it/s]\n",
      "100%|██████████| 10/10 [00:00<00:00, 193.31it/s]\n",
      "100%|██████████| 10/10 [00:00<00:00, 48.65it/s]\n",
      "100%|██████████| 10/10 [00:00<00:00, 286.74it/s]\n",
      "100%|██████████| 10/10 [00:00<00:00, 94.99it/s]\n",
      "100%|██████████| 10/10 [00:00<00:00, 16.87it/s]]\n",
      "100%|██████████| 10/10 [00:00<00:00, 394.77it/s]\n",
      "100%|██████████| 10/10 [00:00<00:00, 468.91it/s]\n",
      "100%|██████████| 10/10 [00:00<00:00, 241.99it/s]\n",
      "100%|██████████| 10/10 [00:00<00:00, 243.96it/s]\n",
      "100%|██████████| 10/10 [00:00<00:00, 483.02it/s]\n",
      "100%|██████████| 10/10 [00:01<00:00,  5.90it/s]\n",
      "100%|██████████| 10/10 [00:00<00:00, 241.78it/s]\n",
      "100%|██████████| 10/10 [00:00<00:00, 468.65it/s]\n",
      "100%|██████████| 10/10 [00:12<00:00,  1.25s/it]\n",
      "100%|██████████| 10/10 [00:00<00:00, 468.16it/s]\n",
      "100%|██████████| 10/10 [00:01<00:00,  5.98it/s]\n",
      "100%|██████████| 10/10 [00:00<00:00, 27.78it/s]]\n",
      "100%|██████████| 10/10 [00:03<00:00,  3.13it/s]]\n",
      "100%|██████████| 10/10 [00:00<00:00, 150.86it/s]\n",
      "100%|██████████| 10/10 [00:00<00:00, 669.21it/s]\n",
      "100%|██████████| 10/10 [00:00<00:00, 73.20it/s]]\n",
      "100%|██████████| 10/10 [00:00<00:00, 737.03it/s]\n",
      "100%|██████████| 10/10 [00:00<00:00, 242.99it/s]\n",
      "100%|██████████| 10/10 [00:01<00:00,  8.73it/s]\n",
      "100%|██████████| 10/10 [00:00<00:00, 27.58it/s]]\n",
      "100%|██████████| 10/10 [00:03<00:00,  3.14it/s]]\n",
      "100%|██████████| 10/10 [00:00<00:00, 706.12it/s]\n",
      "100%|██████████| 10/10 [00:00<00:00, 152.51it/s]\n",
      "100%|██████████| 10/10 [00:00<00:00, 20.93it/s]\n",
      "100%|██████████| 10/10 [00:00<00:00, 40.24it/s]]\n",
      "100%|██████████| 10/10 [00:00<00:00, 97.81it/s]]\n",
      "100%|██████████| 10/10 [00:00<00:00, 559.54it/s]\n",
      "100%|██████████| 10/10 [00:00<00:00, 209.46it/s]\n",
      "100%|██████████| 10/10 [00:01<00:00,  5.81it/s]\n",
      "100%|██████████| 10/10 [00:01<00:00,  8.53it/s]]\n",
      "100%|██████████| 10/10 [00:00<00:00, 14.13it/s]]\n",
      "100%|██████████| 10/10 [00:00<00:00, 610.47it/s]\n",
      "100%|██████████| 10/10 [00:00<00:00, 388.93it/s]\n",
      "100%|██████████| 10/10 [00:00<00:00, 82.56it/s]\n",
      "100%|██████████| 10/10 [00:00<00:00, 95.90it/s]]\n",
      "100%|██████████| 10/10 [00:02<00:00,  4.32it/s]]\n",
      "100%|██████████| 10/10 [00:00<00:00, 526.51it/s]\n",
      "100%|██████████| 10/10 [00:00<00:00, 118.47it/s]\n",
      "100%|██████████| 10/10 [00:12<00:00,  1.24s/it]]\n",
      "100%|██████████| 10/10 [00:00<00:00, 146.24it/s]\n",
      "100%|██████████| 10/10 [00:00<00:00, 711.39it/s]\n",
      "100%|██████████| 10/10 [00:00<00:00, 265.49it/s]\n",
      "100%|██████████| 10/10 [00:00<00:00, 47.43it/s]\n",
      "100%|██████████| 10/10 [00:00<00:00, 99.89it/s]]\n",
      "100%|██████████| 10/10 [00:00<00:00, 82.82it/s]\n",
      "100%|██████████| 10/10 [00:00<00:00, 312.64it/s]\n",
      "100%|██████████| 10/10 [00:00<00:00, 137.32it/s]\n",
      "100%|██████████| 10/10 [00:00<00:00, 63.27it/s]]\n",
      "100%|██████████| 10/10 [00:00<00:00, 133.94it/s]\n",
      "100%|██████████| 10/10 [00:03<00:00,  3.11it/s]]\n",
      "100%|██████████| 10/10 [00:00<00:00, 309.89it/s]\n",
      "100%|██████████| 10/10 [00:00<00:00, 27.27it/s]\n",
      "100%|██████████| 10/10 [00:00<00:00, 28.52it/s]]\n",
      "100%|██████████| 10/10 [00:00<00:00, 125.82it/s]\n",
      "100%|██████████| 10/10 [00:03<00:00,  3.14it/s]\n",
      "100%|██████████| 10/10 [00:00<00:00, 133.32it/s]\n",
      "100%|██████████| 10/10 [00:00<00:00, 138.06it/s]\n",
      "100%|██████████| 10/10 [00:00<00:00, 63.04it/s]]\n",
      "100%|██████████| 10/10 [00:03<00:00,  3.09it/s]]\n",
      "100%|██████████| 10/10 [00:00<00:00, 153.51it/s]\n",
      "100%|██████████| 10/10 [00:00<00:00, 27.19it/s]\n",
      "100%|██████████| 10/10 [00:00<00:00, 458.08it/s]\n",
      "100%|██████████| 10/10 [00:00<00:00, 82.87it/s]\n",
      "100%|██████████| 10/10 [00:00<00:00, 315.13it/s]\n",
      "100%|██████████| 10/10 [00:00<00:00, 100.24it/s]\n",
      "100%|██████████| 10/10 [00:00<00:00, 160.99it/s]\n",
      "100%|██████████| 10/10 [00:00<00:00, 376.31it/s]\n",
      "100%|██████████| 10/10 [00:00<00:00, 63.28it/s]]\n",
      "100%|██████████| 10/10 [00:00<00:00, 135.57it/s]\n",
      "100%|██████████| 10/10 [00:00<00:00, 100.21it/s]\n",
      "100%|██████████| 10/10 [00:00<00:00, 135.73it/s]\n",
      "100%|██████████| 10/10 [00:03<00:00,  3.14it/s]]\n",
      "100%|██████████| 10/10 [00:00<00:00, 712.76it/s]\n",
      "100%|██████████| 10/10 [00:00<00:00, 245.98it/s]\n",
      "100%|██████████| 10/10 [00:01<00:00,  7.94it/s]\n",
      "100%|██████████| 10/10 [00:00<00:00, 222.92it/s]\n",
      "100%|██████████| 10/10 [00:02<00:00,  4.29it/s]\n",
      "100%|██████████| 10/10 [00:03<00:00,  3.14it/s]]\n",
      "100%|██████████| 10/10 [00:00<00:00, 139.87it/s]\n",
      "100%|██████████| 10/10 [00:00<00:00, 97.08it/s]\n",
      "100%|██████████| 10/10 [00:00<00:00, 710.38it/s]\n",
      "100%|██████████| 10/10 [00:00<00:00, 14.07it/s]\n",
      "100%|██████████| 10/10 [00:00<00:00, 198.82it/s]\n",
      "100%|██████████| 10/10 [00:10<00:00,  1.01s/it]\n",
      "100%|██████████| 10/10 [00:02<00:00,  4.33it/s]]\n",
      "100%|██████████| 10/10 [00:03<00:00,  3.11it/s]t]\n",
      "100%|██████████| 10/10 [00:00<00:00, 140.60it/s]]\n",
      "100%|██████████| 10/10 [00:00<00:00, 48.51it/s]\n",
      "100%|██████████| 10/10 [00:00<00:00, 349.35it/s]]\n",
      "100%|██████████| 10/10 [00:00<00:00, 412.20it/s]\n",
      "100%|██████████| 10/10 [00:00<00:00, 283.08it/s]\n",
      "100%|██████████| 10/10 [02:37<00:00, 15.78s/it]s]\n",
      "100%|██████████| 10/10 [00:00<00:00, 16.76it/s]t]\n",
      "100%|██████████| 10/10 [00:00<00:00, 224.21it/s]]\n",
      "100%|██████████| 10/10 [00:00<00:00, 27.05it/s]\n",
      "100%|██████████| 10/10 [00:00<00:00, 50.13it/s]t]\n",
      "100%|██████████| 10/10 [00:00<00:00, 255.11it/s]]\n",
      "100%|██████████| 10/10 [00:00<00:00, 387.80it/s]\n",
      "100%|██████████| 10/10 [00:00<00:00, 409.32it/s]\n",
      "100%|██████████| 10/10 [00:00<00:00, 256.28it/s]]\n",
      "100%|██████████| 10/10 [00:00<00:00, 489.40it/s]\n",
      "100%|██████████| 10/10 [00:00<00:00, 16.79it/s]\n",
      "100%|██████████| 10/10 [00:03<00:00,  3.03it/s]t]\n",
      "100%|██████████| 10/10 [00:00<00:00, 374.69it/s]]\n",
      "100%|██████████| 10/10 [00:00<00:00, 242.11it/s]\n",
      "100%|██████████| 10/10 [00:01<00:00,  5.91it/s]\n",
      "100%|██████████| 10/10 [00:00<00:00, 377.22it/s]]\n",
      "/var/folders/lf/4mh_0n4n78n4qhfwrnvj3l7c0000gn/T/ipykernel_27759/2023053115.py:35: RuntimeWarning: invalid value encountered in scalar divide\n",
      "  gap = 100*(ils.cost(huerstic_soln) - qap_soln)/qap_soln\n",
      "100%|██████████| 10/10 [00:00<00:00, 658.28it/s]\n",
      "100%|██████████| 10/10 [00:00<00:00, 354.71it/s]\n",
      "100%|██████████| 10/10 [00:00<00:00, 145.09it/s]\n",
      "100%|██████████| 10/10 [00:01<00:00,  5.68it/s]t]\n",
      "100%|██████████| 10/10 [00:00<00:00, 383.70it/s]\n",
      "100%|██████████| 127/127 [04:39<00:00,  2.20s/it]"
     ]
    },
    {
     "name": "stdout",
     "output_type": "stream",
     "text": [
      "[('tai35b.sln', 72.01374425598294), ('chr22a.sln', 124.82131254061079), ('esc16h.sln', 41.16465863453815), ('lipa40a.sln', 3.8334707337180545), ('chr18a.sln', 681.0416291223644), ('lipa60b.sln', 30.883424895888513), ('esc16i.sln', 371.42857142857144), ('tai15a.sln', 32.6608520043069), ('nug16a.sln', 32.91925465838509), ('tai35a.sln', 21.038132916488095), ('chr22b.sln', 135.58282208588957), ('lipa40b.sln', 29.13943275120074), ('chr18b.sln', 252.15123859191655), ('tho30.sln', 39.30877174261018), ('lipa60a.sln', 2.78964353000429), ('esc16j.sln', 350.0), ('tai15b.sln', 858.5343999378116), ('rou20.sln', 27.086980132924985), ('lipa20a.sln', 6.6250339397230515), ('chr15a.sln', 592.7243330638642), ('tai80b.sln', 47.82177641375539), ('lipa20b.sln', 33.50938100162506), ('chr15b.sln', 977.0212765957447), ('tai150b.sln', 32.67178588732256), ('chr15c.sln', 462.58417508417506), ('tai80a.sln', 16.489544849525718), ('lipa50b.sln', 29.6727767293207), ('tai100a.sln', 13.480957527730956), ('tai25a.sln', 26.155016551639058), ('chr12a.sln', 138.04438860971524), ('kra30a.sln', 53.25084364454443), ('nug12.sln', 38.4083044982699), ('had20.sln', 11.730713666570356), ('lipa70a.sln', 2.397572972813761), ('lipa50a.sln', 3.2515742515259367), ('tai100b.sln', 54.78286022444271), ('chr12c.sln', 463.53531731803514), ('tai25b.sln', 142.37692766042233), ('sko56.sln', 24.534215566776947), ('sko42.sln', 27.83961548191247), ('kra30b.sln', 45.07766353095603), ('chr12b.sln', 446.29439540135496), ('scr20.sln', 83.13369081159684), ('sko81.sln', 19.345480120442208), ('lipa70b.sln', 29.9762556482447), ('tai64c.sln', 64.4739451099396), ('tai12a.sln', 25.259339797518894), ('nug15.sln', 50.26086956521739), ('esc32g.sln', 366.6666666666667), ('lipa30b.sln', 27.97934304544794), ('sko90.sln', 18.264753232814584), ('nug14.sln', 35.700197238658774), ('nug28.sln', 33.21718931475029), ('tho150.sln', 21.200978975822895), ('chr25a.sln', 452.00210748155956), ('tai12b.sln', 106.09563048707174), ('had18.sln', 11.832773422918999), ('tho40.sln', 45.160405128972705), ('lipa30a.sln', 5.053877674912734), ('esc32e.sln', 3400.0), ('nug17.sln', 41.108545034642034), ('bur26h.sln', 16.327043787713116), ('ste36a.sln', 117.5309678773882), ('bur26e.sln', 13.14286064342637), ('sko100b.sln', 18.210410033140555), ('had14.sln', 15.638766519823788), ('tai50b.sln', 70.13919772206324), ('sko49.sln', 25.759001111776275), ('nug27.sln', 43.98165838746657), ('sko100c.sln', 17.43652865509732), ('bur26d.sln', 12.19271306976166), ('bur26f.sln', 12.454984659089106), ('ste36b.sln', 477.958617209185), ('sko100a.sln', 18.80501572347732), ('nug25.sln', 31.944444444444443), ('tai50a.sln', 18.81575995445044), ('scr15.sln', 103.50019554165037), ('kra32.sln', 42.26096737907761), ('nug18.sln', 35.233160621761655), ('nug30.sln', 26.25734813847159), ('nug24.sln', 39.392201834862384), ('had16.sln', 15.96774193548387), ('ste36c.sln', 112.54106329445777), ('bur26g.sln', 7.05885992646957), ('tai30b.sln', 117.19480151524355), ('bur26c.sln', 8.073291878539727), ('sko100d.sln', 17.554955340428947), ('had12.sln', 12.953995157384988), ('nug20.sln', 35.175097276264594), ('sko72.sln', 20.460033808258874), ('nug21.sln', 36.25922887612797), ('lipa90a.sln', 2.0095388625461), ('sko100e.sln', 17.879986590680524), ('bur26b.sln', 8.839944555210627), ('tai30a.sln', 20.0664853097606), ('scr12.sln', 82.1585482330468), ('sko64.sln', 20.932821972040085), ('nug22.sln', 38.042269187986655), ('esc128.sln', 415.625), ('lipa90b.sln', 30.679837485321777), ('sko100f.sln', 18.348586918596848), ('bur26a.sln', 8.605185131950165), ('tai40a.sln', 19.044203136298048), ('tai17a.sln', 23.78022496401064), ('esc16a.sln', 38.23529411764706), ('els19.sln', 166.39936167498269), ('tai256c.sln', 21.64864351971235), ('tai60b.sln', 73.44259732841141), ('chr20a.sln', 316.6058394160584), ('wil50.sln', 12.872828580793183), ('tai40b.sln', 81.9839929057273), ('chr20c.sln', 696.4502899165606), ('esc16b.sln', 6.8493150684931505), ('esc16c.sln', 66.25), ('chr20b.sln', 424.7171453437772), ('rou15.sln', 34.145281047965895), ('tai60a.sln', 18.42432696703091), ('wil100.sln', 10.20663790388151), ('esc16g.sln', 146.15384615384616), ('tai20a.sln', 29.49414483952681), ('lipa80b.sln', 30.639536875631283), ('esc16f.sln', nan), ('rou12.sln', 40.3272646988893), ('esc16d.sln', 175.0), ('tai20b.sln', 190.2166364859986), ('lipa80a.sln', 2.1181302948320466), ('esc16e.sln', 107.14285714285714)]\n"
     ]
    },
    {
     "name": "stderr",
     "output_type": "stream",
     "text": [
      "\n"
     ]
    }
   ],
   "source": [
    "test_hueristic(10)"
   ]
  },
  {
   "cell_type": "code",
   "execution_count": null,
   "metadata": {},
   "outputs": [],
   "source": []
  }
 ],
 "metadata": {
  "kernelspec": {
   "display_name": ".venv",
   "language": "python",
   "name": "python3"
  },
  "language_info": {
   "codemirror_mode": {
    "name": "ipython",
    "version": 3
   },
   "file_extension": ".py",
   "mimetype": "text/x-python",
   "name": "python",
   "nbconvert_exporter": "python",
   "pygments_lexer": "ipython3",
   "version": "3.9.6"
  },
  "orig_nbformat": 4
 },
 "nbformat": 4,
 "nbformat_minor": 2
}
