{
 "cells": [
  {
   "cell_type": "markdown",
   "metadata": {},
   "source": [
    "### Boiler Plate Code"
   ]
  },
  {
   "cell_type": "code",
   "execution_count": 1,
   "metadata": {},
   "outputs": [],
   "source": [
    "import random\n",
    "\n",
    "import numpy as np\n",
    "from time import time\n",
    "from QAP_Heuristic import QAP_Heuristic\n",
    "from QAP_Tester import QAP_Hueristic_Tester\n",
    "%matplotlib inline"
   ]
  },
  {
   "cell_type": "markdown",
   "metadata": {},
   "source": [
    "##### Iterated Local Search\n",
    "\n",
    "We closely follow the paper: ILS for QAP (Sultze '05) to implement the below method"
   ]
  },
  {
   "cell_type": "code",
   "execution_count": 3,
   "metadata": {},
   "outputs": [],
   "source": [
    "class IteratedLocalSearch(QAP_Heuristic):\n",
    "    def __init__(self, w, d) -> None:\n",
    "        super().__init__(w, d)\n",
    "\n",
    "\n",
    "    def __str__():\n",
    "        return \"ils\"\n",
    "    \n",
    "    # Subroutines\n",
    "    def generate_initial_solution(self):\n",
    "        return np.random.permutation(self.n)\n",
    "    \n",
    "    \n",
    "    def local_search(self, perm: np.array):\n",
    "        n = len(perm)\n",
    "        curr_best = np.copy(perm)  # create a deep copy\n",
    "        \n",
    "        for i in range(1, n-2):\n",
    "            for j in range(i+1, n):\n",
    "                \n",
    "                new_perm = np.copy(curr_best)\n",
    "                new_perm[i:j] = curr_best[j-1:i-1:-1]\n",
    "                \n",
    "                if self.cost(new_perm) < self.cost(curr_best): \n",
    "                    curr_best = new_perm        \n",
    "        \n",
    "        return curr_best\n",
    "    \n",
    "    \n",
    "    def acceptance_criterion(self, perm1: np.array, perm2: np.array):\n",
    "        return perm1 if self.cost(perm1) < self.cost(perm2) else perm2\n",
    "    \n",
    "    @staticmethod\n",
    "    def peturbation(perm: np.array, k: int):\n",
    "        new_perm = perm[:]\n",
    "        # of course, this inexact method can result in pertubations of size < k, but these occur with sufficiently small probability \n",
    "        for _ in range(k): \n",
    "            i = random.randint(0, len(perm)-1)\n",
    "            j = random.randint(0, len(perm)-1)\n",
    "            new_perm[i], new_perm[j] = new_perm[j], new_perm[i]   \n",
    "        \n",
    "        return new_perm\n",
    "    \n",
    "\n",
    "    # ILS implementation\n",
    "    def solve(self, n_iters: int):\n",
    "        s0 = self.generate_initial_solution()\n",
    "        s  = self.local_search(s0)\n",
    "        \n",
    "        curr_best = s\n",
    "        cost_history = [self.cost(s)]\n",
    "        perm_history = [s]\n",
    "        n = len(s0)\n",
    "\n",
    "        for _ in range(n_iters):\n",
    "            \n",
    "            if time() > self.MAX_CPU_TIME: break\n",
    "            \n",
    "            s1 = self.peturbation(s, k=n//2)\n",
    "            s2 = self.local_search(s1)\n",
    "            curr_best = self.acceptance_criterion(curr_best, s2)\n",
    "            \n",
    "            cost_history.append(self.cost(curr_best))\n",
    "            perm_history.append(curr_best)\n",
    "\n",
    "        return curr_best"
   ]
  },
  {
   "cell_type": "markdown",
   "metadata": {},
   "source": [
    "### Automated Testing\n",
    "code for automating the opening, closing and testing of a hueristic on every instance in QAPLib"
   ]
  },
  {
   "cell_type": "code",
   "execution_count": 4,
   "metadata": {},
   "outputs": [],
   "source": [
    "instance_path = \"../QAPInstances/\"\n",
    "solution_path = \"../QAPSolns/\"\n",
    "write_to_path = \"../results/\""
   ]
  },
  {
   "cell_type": "code",
   "execution_count": 5,
   "metadata": {},
   "outputs": [],
   "source": [
    "tester = QAP_Hueristic_Tester(heuristic=IteratedLocalSearch, \n",
    "                              instance_path=instance_path,\n",
    "                              soln_path=solution_path,\n",
    "                              write_to_path=write_to_path)"
   ]
  },
  {
   "cell_type": "code",
   "execution_count": 9,
   "metadata": {},
   "outputs": [],
   "source": [
    "tester.test_hueristic(n_iters=10_000, n_trials=5, tai_only=True)"
   ]
  }
 ],
 "metadata": {
  "kernelspec": {
   "display_name": ".venv",
   "language": "python",
   "name": "python3"
  },
  "language_info": {
   "codemirror_mode": {
    "name": "ipython",
    "version": 3
   },
   "file_extension": ".py",
   "mimetype": "text/x-python",
   "name": "python",
   "nbconvert_exporter": "python",
   "pygments_lexer": "ipython3",
   "version": "3.9.6"
  },
  "orig_nbformat": 4
 },
 "nbformat": 4,
 "nbformat_minor": 2
}
