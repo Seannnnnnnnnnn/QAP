{
 "cells": [
  {
   "cell_type": "markdown",
   "metadata": {},
   "source": [
    "Implements some boiler plate code that can be copied over to other files to speed up the Dev Process"
   ]
  },
  {
   "cell_type": "code",
   "execution_count": 4,
   "metadata": {},
   "outputs": [],
   "source": [
    "import random\n",
    "import math\n",
    "import sys\n",
    "\n",
    "import numpy as np\n",
    "import matplotlib.pyplot as plt\n",
    "%matplotlib inline"
   ]
  },
  {
   "cell_type": "code",
   "execution_count": 28,
   "metadata": {},
   "outputs": [],
   "source": [
    "# for managing file opening and closing\n",
    "\n",
    "def read_integers(filename):\n",
    "    with open(filename) as f:\n",
    "        return [int(elem) for elem in f.read().split()]\n",
    "\n",
    "file_path = '../QAPInstances/tai30b.dat'\n",
    "file_it = iter(read_integers('../QAPInstances/tai30b.dat'))\n",
    "\n",
    "# Number of points\n",
    "n = next(file_it)\n",
    "\n",
    "# Distance between locations\n",
    "W = np.array([[next(file_it) for j in range(n)] for i in range(n)])\n",
    "D = np.array([[next(file_it) for j in range(n)] for i in range(n)])\n"
   ]
  },
  {
   "cell_type": "code",
   "execution_count": 35,
   "metadata": {},
   "outputs": [],
   "source": [
    "# vectorised cost function\n",
    "def cost(X, D, W) -> float:\n",
    "    return np.sum(W * D[X][:, X])"
   ]
  },
  {
   "cell_type": "code",
   "execution_count": 1,
   "metadata": {},
   "outputs": [
    {
     "ename": "NameError",
     "evalue": "name 'plt' is not defined",
     "output_type": "error",
     "traceback": [
      "\u001b[0;31m---------------------------------------------------------------------------\u001b[0m",
      "\u001b[0;31mNameError\u001b[0m                                 Traceback (most recent call last)",
      "Cell \u001b[0;32mIn[1], line 3\u001b[0m\n\u001b[1;32m      1\u001b[0m \u001b[39m# set up params for plots\u001b[39;00m\n\u001b[1;32m      2\u001b[0m SMALL, MED, LARGE, LW \u001b[39m=\u001b[39m \u001b[39m18\u001b[39m, \u001b[39m24\u001b[39m, \u001b[39m30\u001b[39m, \u001b[39m3\u001b[39m\n\u001b[0;32m----> 3\u001b[0m plt\u001b[39m.\u001b[39mrc(\u001b[39m'\u001b[39m\u001b[39maxes\u001b[39m\u001b[39m'\u001b[39m, titlesize\u001b[39m=\u001b[39mMED)    \u001b[39m# fontsize of the axes title\u001b[39;00m\n\u001b[1;32m      4\u001b[0m plt\u001b[39m.\u001b[39mrc(\u001b[39m'\u001b[39m\u001b[39maxes\u001b[39m\u001b[39m'\u001b[39m, labelsize\u001b[39m=\u001b[39mMED)    \u001b[39m# fontsize of the x and y labels\u001b[39;00m\n\u001b[1;32m      5\u001b[0m plt\u001b[39m.\u001b[39mrc(\u001b[39m'\u001b[39m\u001b[39mxtick\u001b[39m\u001b[39m'\u001b[39m, labelsize\u001b[39m=\u001b[39mSMALL) \u001b[39m# fontsize of the tick labels\u001b[39;00m\n",
      "\u001b[0;31mNameError\u001b[0m: name 'plt' is not defined"
     ]
    }
   ],
   "source": [
    "# set up params for plots\n",
    "SMALL, MED, LARGE, LW = 18, 24, 30, 3\n",
    "plt.rc('axes', titlesize=MED)    # fontsize of the axes title\n",
    "plt.rc('axes', labelsize=MED)    # fontsize of the x and y labels\n",
    "plt.rc('xtick', labelsize=SMALL) # fontsize of the tick labels\n",
    "plt.rc('ytick', labelsize=SMALL) # fontsize of the tick labels\n",
    "plt.rc('legend', fontsize=MED)   # legend fontsize\n",
    "plt.rc('font', size=LARGE)       # controls default text sizes"
   ]
  },
  {
   "cell_type": "code",
   "execution_count": 38,
   "metadata": {},
   "outputs": [],
   "source": [
    "# quick verificication that the cost function is working\n",
    "# below is optimal permutation for the QAP \n",
    "\n",
    "X = np.array([3, 7, 10, 14, 16, 19, \n",
    "              20, 4, 13, 29, 1, 12, \n",
    "              5, 28, 9, 25, 26, 23, \n",
    "              27, 21, 11, 8, 6, 22, \n",
    "              18, 17, 24, 15, 0, 2])\n",
    "\n",
    "assert cost(X, D, W) == 637117113"
   ]
  },
  {
   "cell_type": "markdown",
   "metadata": {},
   "source": [
    "##### Automated Testing"
   ]
  },
  {
   "cell_type": "code",
   "execution_count": null,
   "metadata": {},
   "outputs": [],
   "source": []
  }
 ],
 "metadata": {
  "kernelspec": {
   "display_name": ".venv",
   "language": "python",
   "name": "python3"
  },
  "language_info": {
   "codemirror_mode": {
    "name": "ipython",
    "version": 3
   },
   "file_extension": ".py",
   "mimetype": "text/x-python",
   "name": "python",
   "nbconvert_exporter": "python",
   "pygments_lexer": "ipython3",
   "version": "3.9.6"
  },
  "orig_nbformat": 4
 },
 "nbformat": 4,
 "nbformat_minor": 2
}
