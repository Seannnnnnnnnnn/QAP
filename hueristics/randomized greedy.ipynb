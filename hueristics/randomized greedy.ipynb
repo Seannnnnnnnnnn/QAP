{
 "cells": [
  {
   "cell_type": "code",
   "execution_count": 8,
   "metadata": {},
   "outputs": [],
   "source": [
    "import random\n",
    "\n",
    "import numpy as np\n",
    "import seaborn as sns\n",
    "import matplotlib.pyplot as plt\n",
    "import gurobipy as gp"
   ]
  },
  {
   "cell_type": "code",
   "execution_count": 9,
   "metadata": {},
   "outputs": [],
   "source": [
    "def randomized_greedy_qap(distance_matrix, flow_matrix, alpha=0.1):\n",
    "    num_facilities = distance_matrix.shape[0]\n",
    "    \n",
    "    unassigned = set(range(num_facilities))\n",
    "    assignment = [-1] * num_facilities\n",
    "\n",
    "    while unassigned:\n",
    "        min_cost = float('inf')\n",
    "        selected_pair = (None, None)\n",
    "\n",
    "        # Consider all pairs (i, j) where i is an unassigned facility and j is a location\n",
    "        candidates = []\n",
    "        for i in unassigned:\n",
    "            for j in range(num_facilities):\n",
    "                if assignment[j] == -1:  # check if location j is unassigned\n",
    "                    cost = sum(flow_matrix[i][k] * distance_matrix[j][assignment[k]] for k in range(num_facilities) if assignment[k] != -1)\n",
    "                    if cost < min_cost:\n",
    "                        min_cost = cost\n",
    "                        selected_pair = (i, j)\n",
    "                        candidates = [(i, j)]\n",
    "                    elif cost == min_cost:\n",
    "                        candidates.append((i, j))\n",
    "        \n",
    "        # Select a random pair from the top alpha fraction of candidates\n",
    "        num_candidates_to_consider = int(alpha * len(candidates))\n",
    "        if num_candidates_to_consider < 1:\n",
    "            num_candidates_to_consider = 1\n",
    "        i, j = candidates[np.random.choice(num_candidates_to_consider)]\n",
    "\n",
    "        # Assign facility i to location j\n",
    "        assignment[j] = i\n",
    "        unassigned.remove(i)\n",
    "\n",
    "    return assignment"
   ]
  },
  {
   "cell_type": "code",
   "execution_count": 10,
   "metadata": {},
   "outputs": [
    {
     "name": "stdout",
     "output_type": "stream",
     "text": [
      "c:\\Users\\User\\Desktop\n"
     ]
    }
   ],
   "source": [
    "import os\n",
    "print(os.getcwd())"
   ]
  },
  {
   "cell_type": "code",
   "execution_count": 13,
   "metadata": {},
   "outputs": [],
   "source": [
    "\n",
    "def visualize_qap_solution(distance_matrix, flow_matrix, solution):\n",
    "    num_facilities = distance_matrix.shape[0]\n",
    "    cost_matrix = np.zeros((num_facilities, num_facilities))\n",
    "\n",
    "    for i in range(num_facilities):\n",
    "        for j in range(num_facilities):\n",
    "            cost_matrix[i][j] = distance_matrix[i][j] * flow_matrix[solution[i]][solution[j]]\n",
    "\n",
    "    plt.matshow(cost_matrix, cmap='viridis')\n",
    "    plt.colorbar(label='Cost')\n",
    "    plt.title('Cost for each Facility-Location Mapping')\n",
    "    plt.xlabel('Facilities')\n",
    "    plt.ylabel('Locations')\n",
    "    plt.show()"
   ]
  },
  {
   "cell_type": "code",
   "execution_count": 14,
   "metadata": {},
   "outputs": [
    {
     "data": {
      "image/png": "[encoded data removed]",
      "text/plain": [
       "<Figure size 480x480 with 2 Axes>"
      ]
     },
     "metadata": {},
     "output_type": "display_data"
    },
    {
     "name": "stdout",
     "output_type": "stream",
     "text": [
      "[4, 22, 17, 5, 7, 24, 8, 6, 20, 1, 11, 14, 2, 28, 27, 0, 12, 10, 23, 18, 25, 9, 13, 21, 3, 19, 26, 16, 29, 15]\n"
     ]
    }
   ],
   "source": [
    "# for managing file opening and closing\n",
    "def read_integers(filename):\n",
    "    with open(filename) as f:\n",
    "        return [int(elem) for elem in f.read().split()]\n",
    "\n",
    "# Using raw string for the path\n",
    "file_path = r'C:\\Users\\User\\Desktop\\AAH\\QAP-main\\QAP-main\\QAPInstances\\tai30b.dat'  # Change 'tai30b.dat' to your actual file name\n",
    "file_it = iter(read_integers(file_path))\n",
    "\n",
    "# Number of points\n",
    "n = next(file_it)\n",
    "\n",
    "# Distance between locations\n",
    "w = np.array([[next(file_it) for j in range(n)] for i in range(n)])\n",
    "d = np.array([[next(file_it) for j in range(n)] for i in range(n)])\n",
    "\n",
    "solution = randomized_greedy_qap(w, d)\n",
    "visualize_qap_solution(w, d, solution)\n",
    "print(randomized_greedy_qap(w, d))"
   ]
  }
 ],
 "metadata": {
  "kernelspec": {
   "display_name": "base",
   "language": "python",
   "name": "python3"
  },
  "language_info": {
   "codemirror_mode": {
    "name": "ipython",
    "version": 3
   },
   "file_extension": ".py",
   "mimetype": "text/x-python",
   "name": "python",
   "nbconvert_exporter": "python",
   "pygments_lexer": "ipython3",
   "version": "3.10.9"
  },
  "orig_nbformat": 4
 },
 "nbformat": 4,
 "nbformat_minor": 2
}
