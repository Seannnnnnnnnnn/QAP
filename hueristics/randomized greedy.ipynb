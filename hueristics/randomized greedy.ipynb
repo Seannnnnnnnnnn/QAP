{
 "cells": [
  {
   "cell_type": "code",
   "execution_count": 2,
   "metadata": {},
   "outputs": [],
   "source": [
    "import random\n",
    "import os\n",
    "\n",
    "import numpy as np\n",
    "import matplotlib.pyplot as plt\n",
    "from tqdm import trange, tqdm\n",
    "from time import time\n",
    "from QAP_Heuristic import QAP_Heuristic"
   ]
  },
  {
   "cell_type": "code",
   "execution_count": 3,
   "metadata": {},
   "outputs": [],
   "source": [
    "def randomized_greedy_qap(distance_matrix, flow_matrix, p=0.1):\n",
    "    num_facilities = distance_matrix.shape[0]\n",
    "    \n",
    "    unassigned = set(range(num_facilities))\n",
    "    assignment = [-1] * num_facilities\n",
    "\n",
    "    while unassigned:\n",
    "        min_cost = float('inf')\n",
    "        selected_pair = (None, None)\n",
    "\n",
    "        # Consider all pairs (i, j) where i is an unassigned facility and j is a location\n",
    "        candidates = []\n",
    "        for i in unassigned:\n",
    "            for j in range(num_facilities):\n",
    "                if assignment[j] == -1:  # check if location j is unassigned\n",
    "                    cost = sum(flow_matrix[i][k] * distance_matrix[j][assignment[k]] for k in range(num_facilities) if assignment[k] != -1)\n",
    "                    if cost < min_cost:\n",
    "                        min_cost = cost\n",
    "                        selected_pair = (i, j)\n",
    "                        candidates = [(i, j)]\n",
    "                    elif cost == min_cost:\n",
    "                        candidates.append((i, j))\n",
    "        \n",
    "        # Select a random pair from the top p fraction of candidates\n",
    "        num_candidates_to_consider = int(p * len(candidates))\n",
    "        if num_candidates_to_consider < 1:\n",
    "            num_candidates_to_consider = 1\n",
    "        i, j = candidates[np.random.choice(num_candidates_to_consider)]\n",
    "\n",
    "        # Assign facility i to location j\n",
    "        assignment[j] = i\n",
    "        unassigned.remove(i)\n",
    "\n",
    "    return assignment"
   ]
  },
  {
   "cell_type": "code",
   "execution_count": 13,
   "metadata": {},
   "outputs": [],
   "source": [
    "class RandomizedGreedy(QAP_Heuristic):\n",
    "    def __init__(self, w, d, probability) -> None:\n",
    "        super().__init__(w, d)\n",
    "        self.probability = probability\n",
    "\n",
    "    def __str__(self) -> str:\n",
    "        return \"RandomizedGreedy\"\n",
    "\n",
    "    def solve(self, n_iters):\n",
    "        \"\"\"\n",
    "        generates greedy assignments for 60 seconds, returning the argmin wrt cost function\n",
    "        in the event that no assignments are generated in 60 seconds, the algorithm returns a random permutation\n",
    "        \"\"\"\n",
    "        assignments = []\n",
    "        \n",
    "        for _ in range(n_iters):\n",
    "\n",
    "            if time() > self.MAX_CPU_TIME: break\n",
    "\n",
    "            unassigned = set(range(self.n))\n",
    "            assignment = [-1] * self.n\n",
    "\n",
    "            while unassigned:\n",
    "                \n",
    "                if time() > self.MAX_CPU_TIME: break\n",
    "                \n",
    "                min_cost = float('inf')\n",
    "\n",
    "                # Consider all pairs (i, j) where i is an unassigned facility and j is a location\n",
    "                candidates = []\n",
    "                for i in unassigned:\n",
    "                    for j in range(self.n):\n",
    "                        if assignment[j] == -1:  # check if location j is unassigned\n",
    "                            cost = sum(self.W[i][k] * self.D[j][assignment[k]] for k in range(self.n) if assignment[k] != -1)\n",
    "                            if cost < min_cost:\n",
    "                                min_cost = cost\n",
    "                                candidates = [(i, j)]\n",
    "                            elif cost == min_cost:\n",
    "                                candidates.append((i, j))\n",
    "                \n",
    "                # Select a random pair from the top p fraction of candidates\n",
    "                num_candidates_to_consider = int(self.probability * len(candidates))\n",
    "                if num_candidates_to_consider < 1:\n",
    "                    num_candidates_to_consider = 1\n",
    "                i, j = candidates[np.random.choice(num_candidates_to_consider)]\n",
    "\n",
    "                # Assign facility i to location j\n",
    "                assignment[j] = i\n",
    "                unassigned.remove(i)\n",
    "            \n",
    "            assignments.append(assignment)\n",
    "        \n",
    "        return min(assignments, key=self.cost) if len(assignments) > 0 else np.random.permutation(self.n)"
   ]
  },
  {
   "cell_type": "code",
   "execution_count": 14,
   "metadata": {},
   "outputs": [],
   "source": [
    "def sol_cost(solution, distance_matrix, flow_matrix):\n",
    "    cost = 0\n",
    "    num_facilities = len(solution)\n",
    "    for i in range(num_facilities):\n",
    "        for j in range(num_facilities):\n",
    "            cost += distance_matrix[i][j] * flow_matrix[solution[i]][solution[j]]\n",
    "    return cost"
   ]
  },
  {
   "cell_type": "code",
   "execution_count": 15,
   "metadata": {},
   "outputs": [],
   "source": [
    "\n",
    "def visualize_qap_solution(distance_matrix, flow_matrix, solution):\n",
    "    num_facilities = distance_matrix.shape[0]\n",
    "    cost_matrix = np.zeros((num_facilities, num_facilities))\n",
    "\n",
    "    for i in range(num_facilities):\n",
    "        for j in range(num_facilities):\n",
    "            cost_matrix[i][j] = distance_matrix[i][j] * flow_matrix[solution[i]][solution[j]]\n",
    "\n",
    "    plt.matshow(cost_matrix, cmap='viridis')\n",
    "    plt.colorbar(label='Cost')\n",
    "    plt.title('Cost for each Facility-Location Mapping')\n",
    "    plt.xlabel('Facilities')\n",
    "    plt.ylabel('Locations')\n",
    "    plt.show()"
   ]
  },
  {
   "cell_type": "code",
   "execution_count": 16,
   "metadata": {},
   "outputs": [],
   "source": [
    "# set up params for plots\n",
    "SMALL, MED, LARGE, LW = 18, 24, 30, 3\n",
    "plt.rc('axes', titlesize=SMALL)    # fontsize of the axes title\n",
    "plt.rc('axes', labelsize=SMALL)    # fontsize of the x and y labels\n",
    "plt.rc('xtick', labelsize=SMALL) # fontsize of the tick labels\n",
    "plt.rc('ytick', labelsize=SMALL) # fontsize of the tick labels\n",
    "plt.rc('legend', fontsize=MED)   # legend fontsize\n",
    "plt.rc('font', size=SMALL)       # controls default text sizes"
   ]
  },
  {
   "cell_type": "code",
   "execution_count": 17,
   "metadata": {},
   "outputs": [
    {
     "data": {
      "image/png": "[encoded data removed]",
      "text/plain": [
       "<Figure size 480x480 with 2 Axes>"
      ]
     },
     "metadata": {},
     "output_type": "display_data"
    },
    {
     "name": "stdout",
     "output_type": "stream",
     "text": [
      "[10, 4, 14, 6, 29, 8, 22, 17, 1, 23, 7, 12, 16, 27, 9, 15, 24, 21, 11, 28, 26, 0, 20, 5, 19, 18, 3, 25, 13, 2]\n",
      "1194853253\n"
     ]
    }
   ],
   "source": [
    "# for managing file opening and closing\n",
    "def read_integers(filename):\n",
    "    with open(filename) as f:\n",
    "        return [int(elem) for elem in f.read().split()]\n",
    "\n",
    "# Using raw string for the path\n",
    "file_path = '../QAPInstances/tai30b.dat'  # Change 'tai30b.dat' to your actual file name\n",
    "file_it = iter(read_integers(file_path))\n",
    "\n",
    "# Number of points\n",
    "n = next(file_it)\n",
    "\n",
    "# Distance between locations\n",
    "w = np.array([[next(file_it) for j in range(n)] for i in range(n)])\n",
    "d = np.array([[next(file_it) for j in range(n)] for i in range(n)])\n",
    "\n",
    "solution = randomized_greedy_qap(w, d)\n",
    "cost = sol_cost(solution,w,d)\n",
    "visualize_qap_solution(w, d, solution)\n",
    "print(solution)\n",
    "print(cost)"
   ]
  },
  {
   "cell_type": "markdown",
   "metadata": {},
   "source": [
    "### Automated Testing"
   ]
  },
  {
   "cell_type": "code",
   "execution_count": 21,
   "metadata": {},
   "outputs": [],
   "source": [
    "import csv\n",
    "\n",
    "\n",
    "instance_path = '../QAPInstances/'\n",
    "soln_path     = '../QAPSolns/'\n",
    "\n",
    "def open_solution(filename: str):\n",
    "    file_it = iter(read_integers(filename))\n",
    "    _ = next(file_it)    # this is just how the files within the lib are formatted\n",
    "    return next(file_it)\n",
    "\n",
    "        \n",
    "\n",
    "def test_hueristic(n_iters=10_000, tai_only=False):\n",
    "    \n",
    "    \n",
    "\n",
    "    with open('../results/RandomisedGreedy', mode='w') as f: \n",
    "\n",
    "        writer = csv.writer(f)\n",
    "\n",
    "        for filename in os.listdir(instance_path):\n",
    "            \n",
    "\n",
    "            if tai_only and 'tai' not in filename: continue\n",
    "\n",
    "            file_it = iter(read_integers(instance_path+filename))\n",
    "\n",
    "            # open QAP instance param's \n",
    "            n = next(file_it)\n",
    "            w = np.array([[next(file_it) for j in range(n)] for i in range(n)])\n",
    "            d = np.array([[next(file_it) for j in range(n)] for i in range(n)])\n",
    "\n",
    "            # generate an instance\n",
    "            rg = RandomizedGreedy(w,d,probability=0.01)\n",
    "\n",
    "            # open up corresponding soln from QAPLib: \n",
    "            soln_file = filename[:-4]+'.sln' # this removes the .dat from filename\n",
    "            \n",
    "            try:\n",
    "                qap_soln = open_solution(soln_path+soln_file)\n",
    "                huerstic_soln = rg.solve(n_iters)\n",
    "\n",
    "                # compute gap\n",
    "                gap = 100*(rg.cost(huerstic_soln) - qap_soln)/qap_soln\n",
    "                print(filename, gap)\n",
    "                writer.writerow([filename, gap])\n",
    "\n",
    "            # any instances without corresponding solution files are deleted\n",
    "            except FileNotFoundError:\n",
    "                os.remove(instance_path+filename) \n",
    "\n",
    "    return "
   ]
  },
  {
   "cell_type": "code",
   "execution_count": 22,
   "metadata": {},
   "outputs": [],
   "source": [
    "test_hueristic(100_000, tai_only=True)"
   ]
  }
 ],
 "metadata": {
  "kernelspec": {
   "display_name": "base",
   "language": "python",
   "name": "python3"
  },
  "language_info": {
   "codemirror_mode": {
    "name": "ipython",
    "version": 3
   },
   "file_extension": ".py",
   "mimetype": "text/x-python",
   "name": "python",
   "nbconvert_exporter": "python",
   "pygments_lexer": "ipython3",
   "version": "3.9.6"
  },
  "orig_nbformat": 4
 },
 "nbformat": 4,
 "nbformat_minor": 2
}
