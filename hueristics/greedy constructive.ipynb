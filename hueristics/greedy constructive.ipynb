{
 "cells": [
  {
   "cell_type": "code",
   "execution_count": 2,
   "metadata": {},
   "outputs": [],
   "source": [
    "import numpy as np\n",
    "\n",
    "from time import time \n",
    "from QAP_Heuristic import QAP_Heuristic\n",
    "from QAP_Tester import QAP_Hueristic_Tester"
   ]
  },
  {
   "cell_type": "code",
   "execution_count": 28,
   "metadata": {},
   "outputs": [],
   "source": [
    "\"\"\"\n",
    "Constructive heuristic that assigns the unchosen facility of smallest \n",
    "cost function contribution. That is, minimises the set of possible facilities\n",
    "for D[i]*W[i]. \n",
    "\n",
    "The order in whcih we assign facilities is important though as it impacts the \n",
    "which facilities we can assign. In this Randomised heuristic, we generate a number\n",
    "of random insertion orders.\n",
    "\"\"\"\n",
    "\n",
    "\n",
    "class RandomisedConstructive(QAP_Heuristic):\n",
    "    def __init__(self, w, d):\n",
    "        super().__init__(w,d)\n",
    "\n",
    "    def __str__(self):\n",
    "        return \"GreedyConstructive\"\n",
    "\n",
    "    def solve(self, n_iters: int): \n",
    "        \"\"\"\n",
    "        constructs off a simple hueristic of nearest neighbor\n",
    "        \"\"\"\n",
    "\n",
    "        best_assignment, best_cost = None, float('inf')\n",
    "\n",
    "        for _ in range(n_iters): \n",
    "            \n",
    "            if time() > self.MAX_CPU_TIME: break\n",
    "\n",
    "            facility_order = np.random.permutation(self.n)\n",
    "            perm = [0]*self.n\n",
    "            assigned_facilities = set()\n",
    "            for facility in facility_order:\n",
    "                perm[facility] = self.nearest_neighbor(perm[facility], assigned_facilities)\n",
    "                assigned_facilities.add(perm[facility])\n",
    "            \n",
    "            if self.cost(np.array(perm)) < best_cost: \n",
    "                best_assignment = perm\n",
    "                best_cost = self.cost(np.array(perm))\n",
    "\n",
    "        return best_assignment\n",
    "    \n",
    "    def nearest_neighbor(self, facility: int, assigned_facilities: set) -> int:\n",
    "        # returns the most closely located facility \n",
    "        distances = self.D[facility]\n",
    "        weights   = self.W[facility]\n",
    "        \n",
    "        closest_facility, closest_facility_distance = None, float('inf')\n",
    "        \n",
    "        for facility2 in range(self.n): \n",
    "            if(\n",
    "               distances[facility2]*weights[facility2] < closest_facility_distance and \n",
    "               facility2 not in assigned_facilities\n",
    "              ):\n",
    "                closest_facility = facility2\n",
    "                closest_facility_distance = distances[facility2]*weights[facility2]\n",
    "                \n",
    "        return closest_facility"
   ]
  },
  {
   "cell_type": "code",
   "execution_count": 29,
   "metadata": {},
   "outputs": [],
   "source": [
    "instance_path = \"../QAPInstances/\"\n",
    "solution_path = \"../QAPSolns/\"\n",
    "write_to_path = \"../results/\"\n",
    "heurstic = RandomisedConstructive"
   ]
  },
  {
   "cell_type": "code",
   "execution_count": 30,
   "metadata": {},
   "outputs": [],
   "source": [
    "tester = QAP_Hueristic_Tester(heuristic=RandomisedConstructive, \n",
    "                              instance_path=instance_path,\n",
    "                              soln_path=solution_path,\n",
    "                              write_to_path=write_to_path)"
   ]
  },
  {
   "cell_type": "code",
   "execution_count": 33,
   "metadata": {},
   "outputs": [],
   "source": [
    "tester.test_hueristic(n_iters=10_000, n_trials=1, tai_only=True)"
   ]
  }
 ],
 "metadata": {
  "kernelspec": {
   "display_name": ".venv",
   "language": "python",
   "name": "python3"
  },
  "language_info": {
   "codemirror_mode": {
    "name": "ipython",
    "version": 3
   },
   "file_extension": ".py",
   "mimetype": "text/x-python",
   "name": "python",
   "nbconvert_exporter": "python",
   "pygments_lexer": "ipython3",
   "version": "3.9.6"
  },
  "orig_nbformat": 4
 },
 "nbformat": 4,
 "nbformat_minor": 2
}
