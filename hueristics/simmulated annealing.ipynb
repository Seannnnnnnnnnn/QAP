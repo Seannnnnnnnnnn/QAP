{
 "cells": [
  {
   "cell_type": "markdown",
   "metadata": {},
   "source": [
    "### Boiler Plate Code"
   ]
  },
  {
   "cell_type": "code",
   "execution_count": 11,
   "metadata": {},
   "outputs": [],
   "source": [
    "import random\n",
    "\n",
    "import numpy as np\n",
    "import seaborn as sns\n",
    "import matplotlib.pyplot as plt\n",
    "from tqdm import trange\n",
    "%matplotlib inline"
   ]
  },
  {
   "cell_type": "code",
   "execution_count": 12,
   "metadata": {},
   "outputs": [],
   "source": [
    "# for managing file opening and closing\n",
    "\n",
    "def read_integers(filename):\n",
    "    with open(filename) as f:\n",
    "        return [int(elem) for elem in f.read().split()]\n",
    "\n",
    "file_path = '../QAPInstances/tai30b.dat'\n",
    "file_it = iter(read_integers('../QAPInstances/tai30b.dat'))\n",
    "\n",
    "# Number of points\n",
    "n = next(file_it)\n",
    "\n",
    "# Distance between locations\n",
    "W = np.array([[next(file_it) for j in range(n)] for i in range(n)])\n",
    "D = np.array([[next(file_it) for j in range(n)] for i in range(n)])\n"
   ]
  },
  {
   "cell_type": "code",
   "execution_count": 13,
   "metadata": {},
   "outputs": [],
   "source": [
    "# vectorised cost function\n",
    "def cost(X, D, W) -> float:\n",
    "    return np.sum(W * D[X][:, X])"
   ]
  },
  {
   "cell_type": "markdown",
   "metadata": {},
   "source": [
    "### Simmulated Annealing "
   ]
  },
  {
   "cell_type": "code",
   "execution_count": 14,
   "metadata": {},
   "outputs": [],
   "source": [
    "# neighbor generation\n",
    "\n",
    "def gen_neighbour(perm):\n",
    "    # randomly generates a neighbor through swapping two indices\n",
    "    # with probability 10%, we shuffle the entire array and return\n",
    "\n",
    "    new_perm = perm[:]\n",
    "    # Two random indexes\n",
    "    i = random.randint(0, len(perm)-1)\n",
    "    j = random.randint(0, len(perm)-1)\n",
    "\n",
    "    new_perm[i], new_perm[j] = new_perm[j], new_perm[i]   \n",
    "\n",
    "    if random.random() < 0.1:\n",
    "        np.random.shuffle(new_perm)\n",
    "\n",
    "    return new_perm"
   ]
  },
  {
   "cell_type": "code",
   "execution_count": 17,
   "metadata": {},
   "outputs": [],
   "source": [
    "def SimulatedAnnealing(X, D, W, T0, Tmin, n_iter, rate=0.99):\n",
    "    \n",
    "    perm = X\n",
    "    curr_cost = cost(perm, D, W)\n",
    "    best_cost = curr_cost\n",
    "    T = T0\n",
    "    perm_history = [perm]\n",
    "    cost_history = [curr_cost]\n",
    "    best_cost_history = [best_cost]\n",
    "\n",
    "    while T > Tmin:\n",
    "        it = 0\n",
    "        while(it < n_iter):\n",
    "            new_perm = gen_neighbour(perm)\n",
    "            new_cost = cost(new_perm, D, W)\n",
    "            \n",
    "            ΔE = new_cost - curr_cost\n",
    "            if (ΔE <= 0) or (np.exp( -ΔE/T ) >= np.random.uniform()):\n",
    "                perm = new_perm\n",
    "                curr_cost = new_cost\n",
    "                \n",
    "                if curr_cost < best_cost:\n",
    "                    best_cost = curr_cost\n",
    "                    best_perm = perm\n",
    "                    \n",
    "            it += 1\n",
    "            \n",
    "            perm_history.append(perm)\n",
    "            cost_history.append(curr_cost)\n",
    "            best_cost_history.append(best_cost)\n",
    "    \n",
    "        T *= rate\n",
    "        \n",
    "    return best_perm, best_cost, perm_history, cost_history, best_cost_history"
   ]
  },
  {
   "cell_type": "markdown",
   "metadata": {},
   "source": [
    "### Testing"
   ]
  },
  {
   "cell_type": "code",
   "execution_count": 18,
   "metadata": {},
   "outputs": [
    {
     "name": "stdout",
     "output_type": "stream",
     "text": [
      "CPU times: user 308 ms, sys: 5.17 ms, total: 313 ms\n",
      "Wall time: 317 ms\n"
     ]
    }
   ],
   "source": [
    "%%time\n",
    "init = list(range(len(W)))\n",
    "best_perm, best_cost, perm_history, cost_history, best_cost_history = SimulatedAnnealing(init, D, W, T0=100_000_000, Tmin=1000, n_iter=10, rate=0.99)"
   ]
  },
  {
   "cell_type": "code",
   "execution_count": 19,
   "metadata": {},
   "outputs": [
    {
     "name": "stderr",
     "output_type": "stream",
     "text": [
      "  0%|          | 0/5 [00:00<?, ?it/s]"
     ]
    },
    {
     "name": "stderr",
     "output_type": "stream",
     "text": [
      "100%|██████████| 5/5 [00:01<00:00,  3.24it/s]\n"
     ]
    }
   ],
   "source": [
    "bests = []\n",
    "alls  = []\n",
    "n_epochs = 5\n",
    "\n",
    "for _ in trange(n_epochs):\n",
    "    init = np.array(list(range(len(D))))\n",
    "    np.random.shuffle(init)\n",
    "    \n",
    "    best_perm, best_cost, perm_history, cost_history, best_cost_history = SimulatedAnnealing(\n",
    "                init, D, W, T0=100_000_000, Tmin=100, n_iter=10, rate=0.99)\n",
    "    \n",
    "    bests.append(best_cost_history)\n",
    "    alls.append(cost_history)"
   ]
  },
  {
   "cell_type": "code",
   "execution_count": 20,
   "metadata": {},
   "outputs": [
    {
     "data": {
      "image/png": "[encoded data removed]",
      "text/plain": [
       "<Figure size 1000x400 with 1 Axes>"
      ]
     },
     "metadata": {},
     "output_type": "display_data"
    }
   ],
   "source": [
    "fig, ax = plt.subplots(figsize=(10, 4))\n",
    "\n",
    "\n",
    "for i, (best, all_) in enumerate(zip(bests, alls)):\n",
    "    ax.plot(all_, color=f'C{i}')\n",
    "    ax.plot(best, color=f'C{i}')\n",
    "\n",
    "sns.despine()\n",
    "plt.show()"
   ]
  }
 ],
 "metadata": {
  "kernelspec": {
   "display_name": ".venv",
   "language": "python",
   "name": "python3"
  },
  "language_info": {
   "codemirror_mode": {
    "name": "ipython",
    "version": 3
   },
   "file_extension": ".py",
   "mimetype": "text/x-python",
   "name": "python",
   "nbconvert_exporter": "python",
   "pygments_lexer": "ipython3",
   "version": "3.9.6"
  },
  "orig_nbformat": 4
 },
 "nbformat": 4,
 "nbformat_minor": 2
}
