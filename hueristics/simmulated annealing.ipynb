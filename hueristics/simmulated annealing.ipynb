{
 "cells": [
  {
   "cell_type": "markdown",
   "metadata": {},
   "source": [
    "### Boiler Plate Code"
   ]
  },
  {
   "cell_type": "code",
   "execution_count": 1,
   "metadata": {},
   "outputs": [],
   "source": [
    "import random\n",
    "from time import time\n",
    "\n",
    "import numpy as np\n",
    "from QAP_Heuristic import QAP_Heuristic\n",
    "from QAP_Tester import QAP_Hueristic_Tester"
   ]
  },
  {
   "cell_type": "markdown",
   "metadata": {},
   "source": [
    "### Simmulated Annealing "
   ]
  },
  {
   "cell_type": "code",
   "execution_count": 7,
   "metadata": {},
   "outputs": [],
   "source": [
    "class SimmulatedAnnealing(QAP_Heuristic):\n",
    "    def __init__(self, w, d, rate, Tmin, T0) -> None:\n",
    "        super().__init__(w, d)\n",
    "        self.rate = rate\n",
    "        self.Tmin = Tmin\n",
    "        self.T0   = T0\n",
    "\n",
    "    def __str__():\n",
    "        return \"SimmulatedAnnealing\"\n",
    "\n",
    "\n",
    "    def solve(self, n_iter):\n",
    "        \n",
    "        # initialise a random solution \n",
    "        X = np.array(list(range(self.n)))\n",
    "        np.random.shuffle(X)\n",
    "        \n",
    "        # code for simmulated annealing\n",
    "        perm = X\n",
    "        curr_cost = self.cost(perm)\n",
    "        best_cost = curr_cost\n",
    "        best_perm = perm\n",
    "        T = self.T0\n",
    "        \n",
    "        best_cost_history = [best_cost]\n",
    "\n",
    "        while T > self.Tmin:\n",
    "            \n",
    "            if time() > self.MAX_CPU_TIME: break\n",
    "\n",
    "            for _ in range(n_iter):\n",
    "\n",
    "                if time() > self.MAX_CPU_TIME: break\n",
    "                \n",
    "                new_perm = self.gen_neighbour(perm)\n",
    "                new_cost = self.cost(new_perm)\n",
    "                \n",
    "                ΔE = new_cost - curr_cost\n",
    "                if (ΔE <= 0) or (np.exp( -ΔE/T ) >= np.random.uniform()):\n",
    "                    perm = new_perm\n",
    "                    curr_cost = new_cost\n",
    "                    \n",
    "                    if curr_cost < best_cost:\n",
    "                        best_cost = curr_cost\n",
    "                        best_perm = perm\n",
    "                        \n",
    "    \n",
    "                best_cost_history.append(best_cost)\n",
    "        \n",
    "            T *= self.rate\n",
    "            \n",
    "        return best_perm\n",
    "    \n",
    "    @staticmethod\n",
    "    def gen_neighbour(perm):\n",
    "    # randomly generates a neighbor through swapping two indices\n",
    "    # with probability 10%, we shuffle the entire array and return\n",
    "\n",
    "        new_perm = perm[:]\n",
    "        # Two random indexes\n",
    "        i = random.randint(0, len(perm)-1)\n",
    "        j = random.randint(0, len(perm)-1)\n",
    "\n",
    "        new_perm[i], new_perm[j] = new_perm[j], new_perm[i]   \n",
    "\n",
    "        if random.random() < 0.1:\n",
    "            np.random.shuffle(new_perm)\n",
    "\n",
    "        return new_perm"
   ]
  },
  {
   "cell_type": "markdown",
   "metadata": {},
   "source": [
    "### Automated Testing\n",
    "\n",
    "Tests simmulated annealing on QAPLib instances"
   ]
  },
  {
   "cell_type": "code",
   "execution_count": 8,
   "metadata": {},
   "outputs": [],
   "source": [
    "instance_path = \"../QAPInstances/\"\n",
    "solution_path = \"../QAPSolns/\"\n",
    "write_to_path = \"../results/\""
   ]
  },
  {
   "cell_type": "code",
   "execution_count": 9,
   "metadata": {},
   "outputs": [],
   "source": [
    "tester = QAP_Hueristic_Tester(heuristic=SimmulatedAnnealing, \n",
    "                              instance_path=instance_path,\n",
    "                              soln_path=solution_path,\n",
    "                              write_to_path=write_to_path,\n",
    "                              )"
   ]
  },
  {
   "cell_type": "code",
   "execution_count": 10,
   "metadata": {},
   "outputs": [
    {
     "ename": "KeyboardInterrupt",
     "evalue": "",
     "output_type": "error",
     "traceback": [
      "\u001b[0;31m---------------------------------------------------------------------------\u001b[0m",
      "\u001b[0;31mKeyboardInterrupt\u001b[0m                         Traceback (most recent call last)",
      "\u001b[1;32m/Users/sean/QAP/hueristics/simmulated annealing.ipynb Cell 8\u001b[0m line \u001b[0;36m1\n\u001b[0;32m----> <a href='vscode-notebook-cell:/Users/sean/QAP/hueristics/simmulated%20annealing.ipynb#X12sZmlsZQ%3D%3D?line=0'>1</a>\u001b[0m tester\u001b[39m.\u001b[39;49mtest_hueristic(n_iters\u001b[39m=\u001b[39;49m\u001b[39m10_000\u001b[39;49m, n_trials\u001b[39m=\u001b[39;49m\u001b[39m5\u001b[39;49m, tai_only\u001b[39m=\u001b[39;49m\u001b[39mTrue\u001b[39;49;00m, rate\u001b[39m=\u001b[39;49m\u001b[39m0.99\u001b[39;49m,\n\u001b[1;32m      <a href='vscode-notebook-cell:/Users/sean/QAP/hueristics/simmulated%20annealing.ipynb#X12sZmlsZQ%3D%3D?line=1'>2</a>\u001b[0m                       Tmin\u001b[39m=\u001b[39;49m\u001b[39m1_000\u001b[39;49m, T0\u001b[39m=\u001b[39;49m\u001b[39m100_000_000\u001b[39;49m)\n",
      "File \u001b[0;32m~/QAP/hueristics/QAP_Tester.py:74\u001b[0m, in \u001b[0;36mQAP_Hueristic_Tester.test_hueristic\u001b[0;34m(self, n_iters, n_trials, tai_only, bur_only, **kwargs)\u001b[0m\n\u001b[1;32m     71\u001b[0m qap_soln \u001b[39m=\u001b[39m \u001b[39mself\u001b[39m\u001b[39m.\u001b[39m__open_solution(\u001b[39mself\u001b[39m\u001b[39m.\u001b[39msoln_path\u001b[39m+\u001b[39msoln_file)\n\u001b[1;32m     73\u001b[0m \u001b[39mfor\u001b[39;00m _ \u001b[39min\u001b[39;00m \u001b[39mrange\u001b[39m(n_trials): \n\u001b[0;32m---> 74\u001b[0m     huerstic_soln \u001b[39m=\u001b[39m heuristic\u001b[39m.\u001b[39;49msolve(n_iters)\n\u001b[1;32m     75\u001b[0m     gap \u001b[39m=\u001b[39m \u001b[39m100\u001b[39m\u001b[39m*\u001b[39m(heuristic\u001b[39m.\u001b[39mcost(huerstic_soln) \u001b[39m-\u001b[39m qap_soln)\u001b[39m/\u001b[39mqap_soln\n\u001b[1;32m     76\u001b[0m     gaps\u001b[39m.\u001b[39mappend(gap)\n",
      "\u001b[1;32m/Users/sean/QAP/hueristics/simmulated annealing.ipynb Cell 8\u001b[0m line \u001b[0;36m3\n\u001b[1;32m     <a href='vscode-notebook-cell:/Users/sean/QAP/hueristics/simmulated%20annealing.ipynb#X12sZmlsZQ%3D%3D?line=34'>35</a>\u001b[0m new_perm \u001b[39m=\u001b[39m \u001b[39mself\u001b[39m\u001b[39m.\u001b[39mgen_neighbour(perm)\n\u001b[1;32m     <a href='vscode-notebook-cell:/Users/sean/QAP/hueristics/simmulated%20annealing.ipynb#X12sZmlsZQ%3D%3D?line=35'>36</a>\u001b[0m new_cost \u001b[39m=\u001b[39m \u001b[39mself\u001b[39m\u001b[39m.\u001b[39mcost(new_perm)\n\u001b[0;32m---> <a href='vscode-notebook-cell:/Users/sean/QAP/hueristics/simmulated%20annealing.ipynb#X12sZmlsZQ%3D%3D?line=37'>38</a>\u001b[0m ΔE \u001b[39m=\u001b[39m new_cost \u001b[39m-\u001b[39;49m curr_cost\n\u001b[1;32m     <a href='vscode-notebook-cell:/Users/sean/QAP/hueristics/simmulated%20annealing.ipynb#X12sZmlsZQ%3D%3D?line=38'>39</a>\u001b[0m \u001b[39mif\u001b[39;00m (ΔE \u001b[39m<\u001b[39m\u001b[39m=\u001b[39m \u001b[39m0\u001b[39m) \u001b[39mor\u001b[39;00m (np\u001b[39m.\u001b[39mexp( \u001b[39m-\u001b[39mΔE\u001b[39m/\u001b[39mT ) \u001b[39m>\u001b[39m\u001b[39m=\u001b[39m np\u001b[39m.\u001b[39mrandom\u001b[39m.\u001b[39muniform()):\n\u001b[1;32m     <a href='vscode-notebook-cell:/Users/sean/QAP/hueristics/simmulated%20annealing.ipynb#X12sZmlsZQ%3D%3D?line=39'>40</a>\u001b[0m     perm \u001b[39m=\u001b[39m new_perm\n",
      "\u001b[0;31mKeyboardInterrupt\u001b[0m: "
     ]
    }
   ],
   "source": [
    "tester.test_hueristic(n_iters=10_000, n_trials=5, tai_only=True, rate=0.99,\n",
    "                      Tmin=1_000, T0=100_000_000)"
   ]
  }
 ],
 "metadata": {
  "kernelspec": {
   "display_name": ".venv",
   "language": "python",
   "name": "python3"
  },
  "language_info": {
   "codemirror_mode": {
    "name": "ipython",
    "version": 3
   },
   "file_extension": ".py",
   "mimetype": "text/x-python",
   "name": "python",
   "nbconvert_exporter": "python",
   "pygments_lexer": "ipython3",
   "version": "3.9.6"
  },
  "orig_nbformat": 4
 },
 "nbformat": 4,
 "nbformat_minor": 2
}
