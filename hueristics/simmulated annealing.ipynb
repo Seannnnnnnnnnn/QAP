{
 "cells": [
  {
   "cell_type": "markdown",
   "metadata": {},
   "source": [
    "### Boiler Plate Code"
   ]
  },
  {
   "cell_type": "code",
   "execution_count": 1,
   "metadata": {},
   "outputs": [],
   "source": [
    "import random\n",
    "import os\n",
    "from time import time\n",
    "\n",
    "import numpy as np\n",
    "from tqdm import tqdm\n",
    "from QAP_Heuristic import QAP_Heuristic\n",
    "\n",
    "import matplotlib.pyplot as plt\n",
    "%matplotlib inline"
   ]
  },
  {
   "cell_type": "markdown",
   "metadata": {},
   "source": [
    "### Simmulated Annealing "
   ]
  },
  {
   "cell_type": "code",
   "execution_count": 2,
   "metadata": {},
   "outputs": [],
   "source": [
    "class SimmulatedAnnealing(QAP_Heuristic):\n",
    "    def __init__(self, w, d, rate, Tmin, T0) -> None:\n",
    "        super().__init__(w, d)\n",
    "        self.rate = rate\n",
    "        self.Tmin = Tmin\n",
    "        self.T0   = T0\n",
    "\n",
    "    def __str__():\n",
    "        return \"SimmulatedAnnealing\"\n",
    "\n",
    "\n",
    "    def solve(self, n_iter):\n",
    "        \n",
    "        # initialise a random solution \n",
    "        X = np.array(list(range(self.n)))\n",
    "        np.random.shuffle(X)\n",
    "        \n",
    "        # code for simmulated annealing\n",
    "        perm = X\n",
    "        curr_cost = self.cost(perm)\n",
    "        best_cost = curr_cost\n",
    "        best_perm = perm\n",
    "        T = self.T0\n",
    "        \n",
    "        best_cost_history = [best_cost]\n",
    "\n",
    "        while T > self.Tmin:\n",
    "            \n",
    "            if time() > self.MAX_CPU_TIME: break\n",
    "\n",
    "            for _ in range(n_iter):\n",
    "\n",
    "                if time() > self.MAX_CPU_TIME: break\n",
    "                \n",
    "                new_perm = self.gen_neighbour(perm)\n",
    "                new_cost = self.cost(new_perm)\n",
    "                \n",
    "                ΔE = new_cost - curr_cost\n",
    "                if (ΔE <= 0) or (np.exp( -ΔE/T ) >= np.random.uniform()):\n",
    "                    perm = new_perm\n",
    "                    curr_cost = new_cost\n",
    "                    \n",
    "                    if curr_cost < best_cost:\n",
    "                        best_cost = curr_cost\n",
    "                        best_perm = perm\n",
    "                        \n",
    "    \n",
    "                best_cost_history.append(best_cost)\n",
    "        \n",
    "            T *= self.rate\n",
    "            \n",
    "        return best_perm, best_cost, best_cost_history\n",
    "    \n",
    "    @staticmethod\n",
    "    def gen_neighbour(perm):\n",
    "    # randomly generates a neighbor through swapping two indices\n",
    "    # with probability 10%, we shuffle the entire array and return\n",
    "\n",
    "        new_perm = perm[:]\n",
    "        # Two random indexes\n",
    "        i = random.randint(0, len(perm)-1)\n",
    "        j = random.randint(0, len(perm)-1)\n",
    "\n",
    "        new_perm[i], new_perm[j] = new_perm[j], new_perm[i]   \n",
    "\n",
    "        if random.random() < 0.1:\n",
    "            np.random.shuffle(new_perm)\n",
    "\n",
    "        return new_perm"
   ]
  },
  {
   "cell_type": "markdown",
   "metadata": {},
   "source": [
    "### Automated Testing\n",
    "\n",
    "Tests simmulated annealing on QAPLib instances"
   ]
  },
  {
   "cell_type": "code",
   "execution_count": 5,
   "metadata": {},
   "outputs": [],
   "source": [
    "import csv\n",
    "\n",
    "instance_path = '../QAPInstances/'\n",
    "soln_path     = '../QAPSolns/'\n",
    "\n",
    "# for managing file opening and closing\n",
    "def read_integers(filename):\n",
    "    with open(filename) as f:\n",
    "        return [int(elem) for elem in f.read().split()]\n",
    "\n",
    "\n",
    "def open_solution(filename: str):\n",
    "    file_it = iter(read_integers(filename))\n",
    "    _ = next(file_it)    # this is just how the files within the lib are formatted\n",
    "    return next(file_it)\n",
    "\n",
    "        \n",
    "\n",
    "def test_hueristic(n_iters=10_000, tai_only=False, bur_only=False):\n",
    "    \"\"\"\n",
    "    n_iters: number of iterations on each test instance\n",
    "    tai_only: if True, restricts testing to the Tai instances, reducing computation time\n",
    "    \"\"\"\n",
    "    \n",
    "    results_filename = '../results/SimmulatedAnnleaing.csv'\n",
    "    if bur_only: results_filename = '../results/SimmulatedAnnleaing-bur.csv'\n",
    "    if tai_only: results_filename = '../results/SimmulatedAnnleaing-tai.csv'\n",
    "    with open(results_filename, mode='a') as f:\n",
    "        writer = csv.writer(f)\n",
    "        for filename in os.listdir(instance_path):\n",
    "            \n",
    "            # skips any instances that are not Tai\n",
    "            if tai_only and 'tai' not in filename: continue  \n",
    "            if bur_only and 'bur' not in filename: continue  \n",
    "\n",
    "            file_it = iter(read_integers(instance_path+filename))\n",
    "\n",
    "            # open QAP instance param's \n",
    "            n = next(file_it)\n",
    "            w = np.array([[next(file_it) for j in range(n)] for i in range(n)])\n",
    "            d = np.array([[next(file_it) for j in range(n)] for i in range(n)])\n",
    "\n",
    "            # generate an instance\n",
    "            heuristic = SimmulatedAnnealing(w, d, rate=0.98,Tmin=1_000,T0=100_000_000)\n",
    "\n",
    "            # open up corresponding soln from QAPLib: \n",
    "            soln_file = filename[:-4]+'.sln' # this removes the .dat from filename\n",
    "            \n",
    "            try:\n",
    "                qap_soln = open_solution(soln_path+soln_file)\n",
    "                _, huerstic_cost, _ = heuristic.solve(n_iters)\n",
    "\n",
    "                # compute gap\n",
    "                gap = 100*(huerstic_cost - qap_soln)/qap_soln\n",
    "                \n",
    "                print(filename, gap)\n",
    "                writer.writerow([filename, gap])\n",
    "                \n",
    "\n",
    "            # any instances without corresponding solution files are deleted\n",
    "            except FileNotFoundError:\n",
    "                os.remove(instance_path+filename)\n",
    "\n",
    "    return"
   ]
  },
  {
   "cell_type": "code",
   "execution_count": 6,
   "metadata": {},
   "outputs": [
    {
     "name": "stdout",
     "output_type": "stream",
     "text": [
      "bur26h.dat 2.1154984505522028\n",
      "bur26e.dat 1.4322393356152978\n",
      "bur26d.dat 2.159726265791729\n",
      "bur26f.dat 2.397645294449245\n",
      "bur26g.dat 1.7545416841781478\n",
      "bur26c.dat 2.0203269148733276\n",
      "bur26b.dat 2.021398419844457\n",
      "bur26a.dat 1.7780517333834562\n"
     ]
    }
   ],
   "source": [
    "test_hueristic(n_iters=100_000, bur_only=True)"
   ]
  },
  {
   "cell_type": "code",
   "execution_count": null,
   "metadata": {},
   "outputs": [],
   "source": []
  }
 ],
 "metadata": {
  "kernelspec": {
   "display_name": ".venv",
   "language": "python",
   "name": "python3"
  },
  "language_info": {
   "codemirror_mode": {
    "name": "ipython",
    "version": 3
   },
   "file_extension": ".py",
   "mimetype": "text/x-python",
   "name": "python",
   "nbconvert_exporter": "python",
   "pygments_lexer": "ipython3",
   "version": "3.9.6"
  },
  "orig_nbformat": 4
 },
 "nbformat": 4,
 "nbformat_minor": 2
}
