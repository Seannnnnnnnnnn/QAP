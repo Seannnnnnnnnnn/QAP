{
 "cells": [
  {
   "cell_type": "code",
   "execution_count": 9,
   "metadata": {},
   "outputs": [],
   "source": [
    "import random\n",
    "import os\n",
    "\n",
    "import numpy as np\n",
    "import seaborn as sns\n",
    "import matplotlib.pyplot as plt\n",
    "from tqdm import trange, tqdm\n",
    "from QAP_heuristic import QAP_heuristic"
   ]
  },
  {
   "cell_type": "code",
   "execution_count": 34,
   "metadata": {},
   "outputs": [],
   "source": [
    "class TabuSearch(QAP_heuristic):\n",
    "    def __init__(self, w, d, tabu_size=100) -> None:\n",
    "        super().__init__(w, d)\n",
    "        self.tabu_size = tabu_size\n",
    "\n",
    "    # auxiliary methods\n",
    "    def generate_neighbors(self, solution):\n",
    "        neighbors = []\n",
    "        for i in range(len(solution)):\n",
    "            for j in range(i+1, len(solution)):\n",
    "                neighbor = solution.copy()\n",
    "                neighbor[i], neighbor[j] = solution[j], solution[i]\n",
    "                neighbors.append(neighbor)\n",
    "        return neighbors\n",
    "\n",
    "    # implements the solve method via the Tabu Search algorithm\n",
    "    def solve(self, n_iter=1000):\n",
    "\n",
    "        best_solution = self.greedy_qap()\n",
    "        best_cost = self.cost(best_solution)\n",
    "        \n",
    "        current_solution = best_solution\n",
    "        current_cost = best_cost\n",
    "        \n",
    "        tabu_list = []\n",
    "        cost_hist = [current_cost] # using this for debugging\n",
    "\n",
    "        for _ in tqdm(range(n_iter)):\n",
    "            neighbors = self.generate_neighbors(current_solution)\n",
    "            best_neighbor = None\n",
    "            best_neighbor_cost = float('inf')\n",
    "            \n",
    "            for neighbor in neighbors:\n",
    "                if neighbor not in tabu_list:\n",
    "                    cost = self.cost(neighbor)\n",
    "                    if cost < best_neighbor_cost:\n",
    "                        best_neighbor_cost = cost\n",
    "                        best_neighbor = neighbor\n",
    "            \n",
    "            if best_neighbor:\n",
    "                tabu_list.append(best_neighbor)\n",
    "                if len(tabu_list) > self.tabu_size:\n",
    "                    tabu_list.pop(0)\n",
    "                \n",
    "                current_solution = best_neighbor\n",
    "                current_cost = best_neighbor_cost\n",
    "                \n",
    "                if current_cost < best_cost:\n",
    "                    best_cost = current_cost\n",
    "                    best_solution = current_solution\n",
    "                    cost_hist.append(best_cost)\n",
    "\n",
    "        return best_solution, best_cost, cost_hist\n",
    "\n",
    "    # greedy constructive heuristic to formulate an initial solution\n",
    "    def greedy_qap(self):\n",
    "        F, D = self.W.copy(), self.D.copy()\n",
    "        \n",
    "        num_facilities = F.shape[0]\n",
    "        remaining_facilities = set(range(num_facilities))\n",
    "        remaining_locations = set(range(num_facilities))\n",
    "        perm = [-1 for _ in range(num_facilities)]\n",
    "        \n",
    "        for i in range(num_facilities):\n",
    "            best_cost = float('inf')\n",
    "            best_facility, best_location = -1, -1\n",
    "            \n",
    "            for f in remaining_facilities:\n",
    "                for l in remaining_locations:\n",
    "                    current_cost = self.cost(perm)\n",
    "                    \n",
    "                    if current_cost < best_cost:\n",
    "                        best_cost = current_cost\n",
    "                        best_facility, best_location = f, l\n",
    "                        \n",
    "            perm[best_location] = best_facility\n",
    "            remaining_facilities.remove(best_facility)\n",
    "            remaining_locations.remove(best_location)\n",
    "        \n",
    "        return perm"
   ]
  },
  {
   "cell_type": "code",
   "execution_count": 30,
   "metadata": {},
   "outputs": [],
   "source": [
    "# set up params for plots\n",
    "SMALL, MED, LARGE, LW = 18, 24, 30, 3\n",
    "plt.rc('axes', titlesize=SMALL)    # fontsize of the axes title\n",
    "plt.rc('axes', labelsize=SMALL)    # fontsize of the x and y labels\n",
    "plt.rc('xtick', labelsize=SMALL) # fontsize of the tick labels\n",
    "plt.rc('ytick', labelsize=SMALL) # fontsize of the tick labels\n",
    "plt.rc('legend', fontsize=MED)   # legend fontsize\n",
    "plt.rc('font', size=SMALL)       # controls default text sizes"
   ]
  },
  {
   "cell_type": "code",
   "execution_count": 35,
   "metadata": {},
   "outputs": [
    {
     "name": "stderr",
     "output_type": "stream",
     "text": [
      "100%|██████████| 10000/10000 [02:06<00:00, 79.10it/s]"
     ]
    },
    {
     "name": "stdout",
     "output_type": "stream",
     "text": [
      "[7, 3, 10, 28, 8, 25, 9, 4, 13, 5, 27, 11, 2, 14, 18, 29, 21, 0, 1, 16, 15, 19, 17, 20, 12, 23, 6, 22, 26, 24]\n",
      "757071126\n"
     ]
    },
    {
     "name": "stderr",
     "output_type": "stream",
     "text": [
      "\n"
     ]
    }
   ],
   "source": [
    "# for managing file opening and closing\n",
    "def read_integers(filename):\n",
    "    with open(filename) as f:\n",
    "        return [int(elem) for elem in f.read().split()]\n",
    "\n",
    "# Using raw string for the path\n",
    "file_path = '../QAPInstances/tai30b.dat'  \n",
    "file_it = iter(read_integers(file_path))\n",
    "\n",
    "# Number of points\n",
    "n = next(file_it)\n",
    "\n",
    "# Distance between locations\n",
    "w = np.array([[next(file_it) for j in range(n)] for i in range(n)])\n",
    "d = np.array([[next(file_it) for j in range(n)] for i in range(n)])\n",
    "\n",
    "\n",
    "tabu_search = TabuSearch(w, d, tabu_size=100)\n",
    "solution, cost, cost_hist = tabu_search.solve(10_000)\n",
    "print(solution)\n",
    "print(cost)"
   ]
  },
  {
   "cell_type": "code",
   "execution_count": 37,
   "metadata": {},
   "outputs": [
    {
     "data": {
      "image/png": "[encoded data removed]",
      "text/plain": [
       "<Figure size 640x480 with 1 Axes>"
      ]
     },
     "metadata": {},
     "output_type": "display_data"
    }
   ],
   "source": [
    "# just to verify that it works\n",
    "plt.plot(cost_hist)\n",
    "plt.title('tabu search cost history')\n",
    "plt.show()"
   ]
  },
  {
   "cell_type": "code",
   "execution_count": null,
   "metadata": {},
   "outputs": [],
   "source": []
  }
 ],
 "metadata": {
  "kernelspec": {
   "display_name": "base",
   "language": "python",
   "name": "python3"
  },
  "language_info": {
   "codemirror_mode": {
    "name": "ipython",
    "version": 3
   },
   "file_extension": ".py",
   "mimetype": "text/x-python",
   "name": "python",
   "nbconvert_exporter": "python",
   "pygments_lexer": "ipython3",
   "version": "3.9.6"
  },
  "orig_nbformat": 4
 },
 "nbformat": 4,
 "nbformat_minor": 2
}
