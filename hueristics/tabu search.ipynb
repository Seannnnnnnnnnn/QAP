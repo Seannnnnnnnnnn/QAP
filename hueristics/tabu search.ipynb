{
 "cells": [
  {
   "cell_type": "code",
   "execution_count": 3,
   "metadata": {},
   "outputs": [],
   "source": [
    "import numpy as np\n",
    "from time import time\n",
    "from QAP_Heuristic import QAP_Heuristic\n",
    "from QAP_Tester import QAP_Hueristic_Tester"
   ]
  },
  {
   "cell_type": "code",
   "execution_count": 9,
   "metadata": {},
   "outputs": [],
   "source": [
    "class TabuSearch(QAP_Heuristic):\n",
    "    def __init__(self, w, d, tabu_size=100) -> None:\n",
    "        super().__init__(w, d)\n",
    "        self.tabu_size = tabu_size\n",
    "\n",
    "    def __str__(self):\n",
    "        return \"TabuSearch\"\n",
    "\n",
    "    # auxiliary methods\n",
    "    def generate_neighbors(self, solution):\n",
    "        neighbors = []\n",
    "        for i in range(len(solution)):\n",
    "            for j in range(i+1, len(solution)):\n",
    "                neighbor = solution.copy()\n",
    "                neighbor[i], neighbor[j] = solution[j], solution[i]\n",
    "                neighbors.append(neighbor)\n",
    "        return neighbors\n",
    "\n",
    "    # implements the solve method via the Tabu Search algorithm\n",
    "    def solve(self, n_iter):\n",
    "        \n",
    "        best_solution = np.random.permutation(self.n).tolist()  # the .tolist() is janky, but it doesnt work with out it for some reason\n",
    "        best_cost = self.cost(best_solution)\n",
    "        \n",
    "        current_solution = best_solution\n",
    "        current_cost = best_cost\n",
    "        \n",
    "        tabu_list = []\n",
    "\n",
    "        for _ in range(n_iter):\n",
    "\n",
    "            if time() > self.MAX_CPU_TIME: break\n",
    "\n",
    "            neighbors = self.generate_neighbors(current_solution)\n",
    "            best_neighbor = None\n",
    "            best_neighbor_cost = float('inf')\n",
    "            \n",
    "            for neighbor in neighbors:\n",
    "                if neighbor not in tabu_list:\n",
    "                    cost = self.cost(neighbor)\n",
    "                    if cost < best_neighbor_cost:\n",
    "                        best_neighbor_cost = cost\n",
    "                        best_neighbor = neighbor\n",
    "            \n",
    "            if best_neighbor:\n",
    "                tabu_list.append(best_neighbor)\n",
    "                if len(tabu_list) > self.tabu_size:\n",
    "                    tabu_list.pop(0)\n",
    "                \n",
    "                current_solution = best_neighbor\n",
    "                current_cost = best_neighbor_cost\n",
    "                \n",
    "                if current_cost < best_cost:\n",
    "                    best_cost = current_cost\n",
    "                    best_solution = current_solution\n",
    "\n",
    "        return best_solution\n",
    "\n",
    "    # greedy constructive heuristic to formulate an initial solution\n",
    "    def greedy_qap(self):\n",
    "        F, D = self.W.copy(), self.D.copy()\n",
    "        \n",
    "        num_facilities = F.shape[0]\n",
    "        remaining_facilities = set(range(num_facilities))\n",
    "        remaining_locations = set(range(num_facilities))\n",
    "        perm = [-1 for _ in range(num_facilities)]\n",
    "        \n",
    "        for i in range(num_facilities):\n",
    "            best_cost = float('inf')\n",
    "            best_facility, best_location = -1, -1\n",
    "            \n",
    "            for f in remaining_facilities:\n",
    "                for l in remaining_locations:\n",
    "                    current_cost = self.cost(perm)\n",
    "                    \n",
    "                    if current_cost < best_cost:\n",
    "                        best_cost = current_cost\n",
    "                        best_facility, best_location = f, l\n",
    "                        \n",
    "            perm[best_location] = best_facility\n",
    "            remaining_facilities.remove(best_facility)\n",
    "            remaining_locations.remove(best_location)\n",
    "        \n",
    "        return perm"
   ]
  },
  {
   "cell_type": "markdown",
   "metadata": {},
   "source": [
    "### Automated Testing\n",
    "\n",
    "Automatic Testing for the Hueristic on all instances of the problem"
   ]
  },
  {
   "cell_type": "code",
   "execution_count": 10,
   "metadata": {},
   "outputs": [],
   "source": [
    "instance_path = \"../QAPInstances/\"\n",
    "solution_path = \"../QAPSolns/\"\n",
    "write_to_path = \"../results/\""
   ]
  },
  {
   "cell_type": "code",
   "execution_count": 11,
   "metadata": {},
   "outputs": [],
   "source": [
    "tester = QAP_Hueristic_Tester(heuristic=TabuSearch, \n",
    "                              instance_path=instance_path,\n",
    "                              soln_path=solution_path,\n",
    "                              write_to_path=write_to_path,\n",
    "                              )"
   ]
  },
  {
   "cell_type": "code",
   "execution_count": 13,
   "metadata": {},
   "outputs": [],
   "source": [
    "tester.test_hueristic(n_iters=10_000, n_trials=5, tai_only=True, tabu_size=100)"
   ]
  }
 ],
 "metadata": {
  "kernelspec": {
   "display_name": "base",
   "language": "python",
   "name": "python3"
  },
  "language_info": {
   "codemirror_mode": {
    "name": "ipython",
    "version": 3
   },
   "file_extension": ".py",
   "mimetype": "text/x-python",
   "name": "python",
   "nbconvert_exporter": "python",
   "pygments_lexer": "ipython3",
   "version": "3.9.6"
  },
  "orig_nbformat": 4
 },
 "nbformat": 4,
 "nbformat_minor": 2
}
