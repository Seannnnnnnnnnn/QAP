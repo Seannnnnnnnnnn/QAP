{
 "cells": [
  {
   "cell_type": "code",
   "execution_count": 7,
   "metadata": {},
   "outputs": [],
   "source": [
    "import random\n",
    "import os\n",
    "\n",
    "import numpy as np\n",
    "import matplotlib.pyplot as plt\n",
    "from tqdm import trange, tqdm\n",
    "from QAP_heuristic import QAP_heuristic"
   ]
  },
  {
   "cell_type": "code",
   "execution_count": 3,
   "metadata": {},
   "outputs": [],
   "source": [
    "class TabuSearch(QAP_heuristic):\n",
    "    def __init__(self, w, d, tabu_size=100) -> None:\n",
    "        super().__init__(w, d)\n",
    "        self.tabu_size = tabu_size\n",
    "\n",
    "    # auxiliary methods\n",
    "    def generate_neighbors(self, solution):\n",
    "        neighbors = []\n",
    "        for i in range(len(solution)):\n",
    "            for j in range(i+1, len(solution)):\n",
    "                neighbor = solution.copy()\n",
    "                neighbor[i], neighbor[j] = solution[j], solution[i]\n",
    "                neighbors.append(neighbor)\n",
    "        return neighbors\n",
    "\n",
    "    # implements the solve method via the Tabu Search algorithm\n",
    "    def solve(self, n_iter=1000):\n",
    "\n",
    "        best_solution = self.greedy_qap()\n",
    "        best_cost = self.cost(best_solution)\n",
    "        \n",
    "        current_solution = best_solution\n",
    "        current_cost = best_cost\n",
    "        \n",
    "        tabu_list = []\n",
    "        cost_hist = [current_cost] # using this for debugging\n",
    "\n",
    "        for _ in tqdm(range(n_iter)):\n",
    "            neighbors = self.generate_neighbors(current_solution)\n",
    "            best_neighbor = None\n",
    "            best_neighbor_cost = float('inf')\n",
    "            \n",
    "            for neighbor in neighbors:\n",
    "                if neighbor not in tabu_list:\n",
    "                    cost = self.cost(neighbor)\n",
    "                    if cost < best_neighbor_cost:\n",
    "                        best_neighbor_cost = cost\n",
    "                        best_neighbor = neighbor\n",
    "            \n",
    "            if best_neighbor:\n",
    "                tabu_list.append(best_neighbor)\n",
    "                if len(tabu_list) > self.tabu_size:\n",
    "                    tabu_list.pop(0)\n",
    "                \n",
    "                current_solution = best_neighbor\n",
    "                current_cost = best_neighbor_cost\n",
    "                \n",
    "                if current_cost < best_cost:\n",
    "                    best_cost = current_cost\n",
    "                    best_solution = current_solution\n",
    "                    cost_hist.append(best_cost)\n",
    "\n",
    "        return best_solution, best_cost, cost_hist\n",
    "\n",
    "    # greedy constructive heuristic to formulate an initial solution\n",
    "    def greedy_qap(self):\n",
    "        F, D = self.W.copy(), self.D.copy()\n",
    "        \n",
    "        num_facilities = F.shape[0]\n",
    "        remaining_facilities = set(range(num_facilities))\n",
    "        remaining_locations = set(range(num_facilities))\n",
    "        perm = [-1 for _ in range(num_facilities)]\n",
    "        \n",
    "        for i in range(num_facilities):\n",
    "            best_cost = float('inf')\n",
    "            best_facility, best_location = -1, -1\n",
    "            \n",
    "            for f in remaining_facilities:\n",
    "                for l in remaining_locations:\n",
    "                    current_cost = self.cost(perm)\n",
    "                    \n",
    "                    if current_cost < best_cost:\n",
    "                        best_cost = current_cost\n",
    "                        best_facility, best_location = f, l\n",
    "                        \n",
    "            perm[best_location] = best_facility\n",
    "            remaining_facilities.remove(best_facility)\n",
    "            remaining_locations.remove(best_location)\n",
    "        \n",
    "        return perm"
   ]
  },
  {
   "cell_type": "code",
   "execution_count": 4,
   "metadata": {},
   "outputs": [],
   "source": [
    "# set up params for plots\n",
    "SMALL, MED, LARGE, LW = 18, 24, 30, 3\n",
    "plt.rc('axes', titlesize=SMALL)    # fontsize of the axes title\n",
    "plt.rc('axes', labelsize=SMALL)    # fontsize of the x and y labels\n",
    "plt.rc('xtick', labelsize=SMALL) # fontsize of the tick labels\n",
    "plt.rc('ytick', labelsize=SMALL) # fontsize of the tick labels\n",
    "plt.rc('legend', fontsize=MED)   # legend fontsize\n",
    "plt.rc('font', size=SMALL)       # controls default text sizes"
   ]
  },
  {
   "cell_type": "code",
   "execution_count": 5,
   "metadata": {},
   "outputs": [],
   "source": [
    "instance_path = '../QAPInstances/'\n",
    "soln_path     = '../QAPSolns/'\n",
    "\n",
    "# for managing file opening and closing\n",
    "def read_integers(filename):\n",
    "    with open(filename) as f:\n",
    "        return [int(elem) for elem in f.read().split()]\n",
    "\n",
    "\n",
    "def open_solution(filename: str):\n",
    "    file_it = iter(read_integers(filename))\n",
    "    _ = next(file_it)    # this is just how the files within the lib are formatted\n",
    "    return next(file_it)\n",
    "\n",
    "        \n",
    "\n",
    "def test_hueristic(n_iters=10_000, tai_only=False):\n",
    "    \"\"\"\n",
    "    n_iters: number of iterations on each test instance\n",
    "    tai_only: if True, restricts testing to the Tai instances, reducing computation time\n",
    "    \"\"\"\n",
    "    \n",
    "    results = [] # for storing results\n",
    "\n",
    "    for filename in os.listdir(instance_path):\n",
    "        \n",
    "        # skips any instances that are not Tai\n",
    "        if tai_only and 'tai' not in filename: continue  \n",
    "\n",
    "        file_it = iter(read_integers(instance_path+filename))\n",
    "\n",
    "        # open QAP instance param's \n",
    "        n = next(file_it)\n",
    "        w = np.array([[next(file_it) for j in range(n)] for i in range(n)])\n",
    "        d = np.array([[next(file_it) for j in range(n)] for i in range(n)])\n",
    "\n",
    "        # generate an instance\n",
    "        heuristic = TabuSearch(w, d)\n",
    "\n",
    "        # open up corresponding soln from QAPLib: \n",
    "        soln_file = filename[:-4]+'.sln' # this removes the .dat from filename\n",
    "        \n",
    "        try:\n",
    "            qap_soln = open_solution(soln_path+soln_file)\n",
    "            huerstic_soln, _, _ = heuristic.solve(n_iters)\n",
    "\n",
    "            # compute gap\n",
    "            gap = 100*(heuristic.cost(huerstic_soln) - qap_soln)/qap_soln\n",
    "            results.append((soln_file, gap))\n",
    "\n",
    "            print(filename, gap)\n",
    "            \n",
    "\n",
    "        # any instances without corresponding solution files are deleted\n",
    "        except FileNotFoundError:\n",
    "            os.remove(instance_path+filename) \n",
    "    \n",
    "    # just printing results for now, but will need to save to file or something \n",
    "    print(results)\n",
    "\n",
    "    return"
   ]
  },
  {
   "cell_type": "code",
   "execution_count": 6,
   "metadata": {},
   "outputs": [
    {
     "name": "stderr",
     "output_type": "stream",
     "text": [
      "100%|██████████| 3000/3000 [00:52<00:00, 57.11it/s]\n"
     ]
    },
    {
     "name": "stdout",
     "output_type": "stream",
     "text": [
      "tai35b.dat 9.322040314462912\n"
     ]
    },
    {
     "name": "stderr",
     "output_type": "stream",
     "text": [
      "100%|██████████| 3000/3000 [00:07<00:00, 417.63it/s]\n"
     ]
    },
    {
     "name": "stdout",
     "output_type": "stream",
     "text": [
      "tai15a.dat 0.8521073428572901\n"
     ]
    },
    {
     "name": "stderr",
     "output_type": "stream",
     "text": [
      " 80%|███████▉  | 2393/3000 [00:43<00:10, 55.43it/s]\n"
     ]
    },
    {
     "ename": "KeyboardInterrupt",
     "evalue": "",
     "output_type": "error",
     "traceback": [
      "\u001b[0;31m---------------------------------------------------------------------------\u001b[0m",
      "\u001b[0;31mKeyboardInterrupt\u001b[0m                         Traceback (most recent call last)",
      "\u001b[1;32m/Users/sean/QAP/hueristics/tabu search.ipynb Cell 5\u001b[0m line \u001b[0;36m1\n\u001b[0;32m----> <a href='vscode-notebook-cell:/Users/sean/QAP/hueristics/tabu%20search.ipynb#W4sZmlsZQ%3D%3D?line=0'>1</a>\u001b[0m test_hueristic(n_iters\u001b[39m=\u001b[39;49m\u001b[39m3_000\u001b[39;49m, tai_only\u001b[39m=\u001b[39;49m\u001b[39mTrue\u001b[39;49;00m)\n",
      "\u001b[1;32m/Users/sean/QAP/hueristics/tabu search.ipynb Cell 5\u001b[0m line \u001b[0;36m4\n\u001b[1;32m     <a href='vscode-notebook-cell:/Users/sean/QAP/hueristics/tabu%20search.ipynb#W4sZmlsZQ%3D%3D?line=42'>43</a>\u001b[0m \u001b[39mtry\u001b[39;00m:\n\u001b[1;32m     <a href='vscode-notebook-cell:/Users/sean/QAP/hueristics/tabu%20search.ipynb#W4sZmlsZQ%3D%3D?line=43'>44</a>\u001b[0m     qap_soln \u001b[39m=\u001b[39m open_solution(soln_path\u001b[39m+\u001b[39msoln_file)\n\u001b[0;32m---> <a href='vscode-notebook-cell:/Users/sean/QAP/hueristics/tabu%20search.ipynb#W4sZmlsZQ%3D%3D?line=44'>45</a>\u001b[0m     huerstic_soln, _, _ \u001b[39m=\u001b[39m heuristic\u001b[39m.\u001b[39;49msolve(n_iters)\n\u001b[1;32m     <a href='vscode-notebook-cell:/Users/sean/QAP/hueristics/tabu%20search.ipynb#W4sZmlsZQ%3D%3D?line=46'>47</a>\u001b[0m     \u001b[39m# compute gap\u001b[39;00m\n\u001b[1;32m     <a href='vscode-notebook-cell:/Users/sean/QAP/hueristics/tabu%20search.ipynb#W4sZmlsZQ%3D%3D?line=47'>48</a>\u001b[0m     gap \u001b[39m=\u001b[39m \u001b[39m100\u001b[39m\u001b[39m*\u001b[39m(heuristic\u001b[39m.\u001b[39mcost(huerstic_soln) \u001b[39m-\u001b[39m qap_soln)\u001b[39m/\u001b[39mqap_soln\n",
      "\u001b[1;32m/Users/sean/QAP/hueristics/tabu search.ipynb Cell 5\u001b[0m line \u001b[0;36m3\n\u001b[1;32m     <a href='vscode-notebook-cell:/Users/sean/QAP/hueristics/tabu%20search.ipynb#W4sZmlsZQ%3D%3D?line=32'>33</a>\u001b[0m \u001b[39mfor\u001b[39;00m neighbor \u001b[39min\u001b[39;00m neighbors:\n\u001b[1;32m     <a href='vscode-notebook-cell:/Users/sean/QAP/hueristics/tabu%20search.ipynb#W4sZmlsZQ%3D%3D?line=33'>34</a>\u001b[0m     \u001b[39mif\u001b[39;00m neighbor \u001b[39mnot\u001b[39;00m \u001b[39min\u001b[39;00m tabu_list:\n\u001b[0;32m---> <a href='vscode-notebook-cell:/Users/sean/QAP/hueristics/tabu%20search.ipynb#W4sZmlsZQ%3D%3D?line=34'>35</a>\u001b[0m         cost \u001b[39m=\u001b[39m \u001b[39mself\u001b[39;49m\u001b[39m.\u001b[39;49mcost(neighbor)\n\u001b[1;32m     <a href='vscode-notebook-cell:/Users/sean/QAP/hueristics/tabu%20search.ipynb#W4sZmlsZQ%3D%3D?line=35'>36</a>\u001b[0m         \u001b[39mif\u001b[39;00m cost \u001b[39m<\u001b[39m best_neighbor_cost:\n\u001b[1;32m     <a href='vscode-notebook-cell:/Users/sean/QAP/hueristics/tabu%20search.ipynb#W4sZmlsZQ%3D%3D?line=36'>37</a>\u001b[0m             best_neighbor_cost \u001b[39m=\u001b[39m cost\n",
      "File \u001b[0;32m~/QAP/hueristics/QAP_heuristic.py:23\u001b[0m, in \u001b[0;36mQAP_heuristic.cost\u001b[0;34m(self, X)\u001b[0m\n\u001b[1;32m     22\u001b[0m \u001b[39mdef\u001b[39;00m \u001b[39mcost\u001b[39m(\u001b[39mself\u001b[39m, X: np\u001b[39m.\u001b[39marray):\n\u001b[0;32m---> 23\u001b[0m     \u001b[39mreturn\u001b[39;00m np\u001b[39m.\u001b[39msum(\u001b[39mself\u001b[39m\u001b[39m.\u001b[39mW \u001b[39m*\u001b[39m \u001b[39mself\u001b[39;49m\u001b[39m.\u001b[39;49mD[X][:, X])\n",
      "\u001b[0;31mKeyboardInterrupt\u001b[0m: "
     ]
    }
   ],
   "source": [
    "test_hueristic(n_iters=3_000, tai_only=True)"
   ]
  },
  {
   "cell_type": "code",
   "execution_count": null,
   "metadata": {},
   "outputs": [],
   "source": []
  }
 ],
 "metadata": {
  "kernelspec": {
   "display_name": "base",
   "language": "python",
   "name": "python3"
  },
  "language_info": {
   "codemirror_mode": {
    "name": "ipython",
    "version": 3
   },
   "file_extension": ".py",
   "mimetype": "text/x-python",
   "name": "python",
   "nbconvert_exporter": "python",
   "pygments_lexer": "ipython3",
   "version": "3.9.6"
  },
  "orig_nbformat": 4
 },
 "nbformat": 4,
 "nbformat_minor": 2
}
