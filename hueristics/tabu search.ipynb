{
 "cells": [
  {
   "cell_type": "code",
   "execution_count": 12,
   "metadata": {},
   "outputs": [],
   "source": [
    "import random\n",
    "import os\n",
    "\n",
    "import numpy as np\n",
    "import seaborn as sns\n",
    "import matplotlib.pyplot as plt\n",
    "import gurobipy as gp\n",
    "from tqdm import trange, tqdm"
   ]
  },
  {
   "cell_type": "code",
   "execution_count": null,
   "metadata": {},
   "outputs": [],
   "source": []
  },
  {
   "cell_type": "code",
   "execution_count": 13,
   "metadata": {},
   "outputs": [],
   "source": [
    "def greedy_qap(F, D):    \n",
    "    num_facilities = F.shape[0]\n",
    "    remaining_facilities = set(range(num_facilities))\n",
    "    remaining_locations = set(range(num_facilities))\n",
    "    perm = [-1 for _ in range(num_facilities)]\n",
    "    \n",
    "    for i in range(num_facilities):\n",
    "        best_cost = float('inf')\n",
    "        best_facility, best_location = -1, -1\n",
    "        \n",
    "        for f in remaining_facilities:\n",
    "            for l in remaining_locations:\n",
    "                current_cost = sum([F[f][j] * D[l][perm[j]] for j in range(i) if perm[j] != -1])\n",
    "                \n",
    "                if current_cost < best_cost:\n",
    "                    best_cost = current_cost\n",
    "                    best_facility, best_location = f, l\n",
    "                    \n",
    "        perm[best_location] = best_facility\n",
    "        remaining_facilities.remove(best_facility)\n",
    "        remaining_locations.remove(best_location)\n",
    "    \n",
    "    # Compute final cost\n",
    "    cost = 0\n",
    "    for i in range(num_facilities):\n",
    "        for j in range(num_facilities):\n",
    "            cost += F[perm[i]][perm[j]] * D[i][j]\n",
    "    \n",
    "    return perm\n"
   ]
  },
  {
   "cell_type": "code",
   "execution_count": 14,
   "metadata": {},
   "outputs": [],
   "source": [
    "def objective_function(permutation, distance, flow):\n",
    "    n = len(permutation)\n",
    "    total = 0\n",
    "    for i in range(n):\n",
    "        for j in range(n):\n",
    "            total += flow[i][j] * distance[permutation[i]][permutation[j]]\n",
    "    return total\n",
    "\n",
    "def generate_neighbors(solution):\n",
    "    neighbors = []\n",
    "    for i in range(len(solution)):\n",
    "        for j in range(i+1, len(solution)):\n",
    "            neighbor = solution.copy()\n",
    "            neighbor[i], neighbor[j] = solution[j], solution[i]\n",
    "            neighbors.append(neighbor)\n",
    "    return neighbors\n",
    "\n",
    "def tabu_search(distance, flow, iters=1000, tabu_size=100):\n",
    "    n = len(flow)\n",
    "\n",
    "    best_solution = greedy_qap(distance, flow)\n",
    "    best_cost = objective_function(best_solution, distance, flow)\n",
    "    \n",
    "    current_solution = best_solution\n",
    "    current_cost = best_cost\n",
    "    \n",
    "    tabu_list = []\n",
    "\n",
    "    for _ in range(iters):\n",
    "        neighbors = generate_neighbors(current_solution)\n",
    "        best_neighbor = None\n",
    "        best_neighbor_cost = float('inf')\n",
    "        \n",
    "        for neighbor in neighbors:\n",
    "            if neighbor not in tabu_list:\n",
    "                cost = objective_function(neighbor, distance, flow)\n",
    "                if cost < best_neighbor_cost:\n",
    "                    best_neighbor_cost = cost\n",
    "                    best_neighbor = neighbor\n",
    "        \n",
    "        if best_neighbor:\n",
    "            tabu_list.append(best_neighbor)\n",
    "            if len(tabu_list) > tabu_size:\n",
    "                tabu_list.pop(0)\n",
    "            \n",
    "            current_solution = best_neighbor\n",
    "            current_cost = best_neighbor_cost\n",
    "            \n",
    "            if current_cost < best_cost:\n",
    "                best_cost = current_cost\n",
    "                best_solution = current_solution\n",
    "\n",
    "    return best_solution, best_cost"
   ]
  },
  {
   "cell_type": "code",
   "execution_count": 15,
   "metadata": {},
   "outputs": [],
   "source": [
    "def visualize_qap_solution(distance_matrix, flow_matrix, solution):\n",
    "    num_facilities = distance_matrix.shape[0]\n",
    "    cost_matrix = np.zeros((num_facilities, num_facilities))\n",
    "\n",
    "    for i in range(num_facilities):\n",
    "        for j in range(num_facilities):\n",
    "            cost_matrix[i][j] = distance_matrix[i][j] * flow_matrix[solution[i]][solution[j]]\n",
    "\n",
    "    plt.matshow(cost_matrix, cmap='viridis')\n",
    "    plt.colorbar(label='Cost')\n",
    "    plt.title('Cost for each Facility-Location Mapping')\n",
    "    plt.xlabel('Facilities')\n",
    "    plt.ylabel('Locations')\n",
    "    plt.show()"
   ]
  },
  {
   "cell_type": "code",
   "execution_count": 16,
   "metadata": {},
   "outputs": [],
   "source": [
    "# set up params for plots\n",
    "SMALL, MED, LARGE, LW = 18, 24, 30, 3\n",
    "plt.rc('axes', titlesize=SMALL)    # fontsize of the axes title\n",
    "plt.rc('axes', labelsize=SMALL)    # fontsize of the x and y labels\n",
    "plt.rc('xtick', labelsize=SMALL) # fontsize of the tick labels\n",
    "plt.rc('ytick', labelsize=SMALL) # fontsize of the tick labels\n",
    "plt.rc('legend', fontsize=MED)   # legend fontsize\n",
    "plt.rc('font', size=SMALL)       # controls default text sizes"
   ]
  },
  {
   "cell_type": "code",
   "execution_count": 17,
   "metadata": {},
   "outputs": [
    {
     "ename": "KeyboardInterrupt",
     "evalue": "",
     "output_type": "error",
     "traceback": [
      "\u001b[0;31m---------------------------------------------------------------------------\u001b[0m",
      "\u001b[0;31mKeyboardInterrupt\u001b[0m                         Traceback (most recent call last)",
      "\u001b[1;32m/Users/boss/Desktop/QAP-main/hueristics/tabu search.ipynb Cell 7\u001b[0m line \u001b[0;36m1\n\u001b[1;32m     <a href='vscode-notebook-cell:/Users/boss/Desktop/QAP-main/hueristics/tabu%20search.ipynb#X10sZmlsZQ%3D%3D?line=13'>14</a>\u001b[0m w \u001b[39m=\u001b[39m np\u001b[39m.\u001b[39marray([[\u001b[39mnext\u001b[39m(file_it) \u001b[39mfor\u001b[39;00m j \u001b[39min\u001b[39;00m \u001b[39mrange\u001b[39m(n)] \u001b[39mfor\u001b[39;00m i \u001b[39min\u001b[39;00m \u001b[39mrange\u001b[39m(n)])\n\u001b[1;32m     <a href='vscode-notebook-cell:/Users/boss/Desktop/QAP-main/hueristics/tabu%20search.ipynb#X10sZmlsZQ%3D%3D?line=14'>15</a>\u001b[0m d \u001b[39m=\u001b[39m np\u001b[39m.\u001b[39marray([[\u001b[39mnext\u001b[39m(file_it) \u001b[39mfor\u001b[39;00m j \u001b[39min\u001b[39;00m \u001b[39mrange\u001b[39m(n)] \u001b[39mfor\u001b[39;00m i \u001b[39min\u001b[39;00m \u001b[39mrange\u001b[39m(n)])\n\u001b[0;32m---> <a href='vscode-notebook-cell:/Users/boss/Desktop/QAP-main/hueristics/tabu%20search.ipynb#X10sZmlsZQ%3D%3D?line=16'>17</a>\u001b[0m solution,cost \u001b[39m=\u001b[39m tabu_search(w, d)\n\u001b[1;32m     <a href='vscode-notebook-cell:/Users/boss/Desktop/QAP-main/hueristics/tabu%20search.ipynb#X10sZmlsZQ%3D%3D?line=17'>18</a>\u001b[0m visualize_qap_solution(w, d, solution)\n\u001b[1;32m     <a href='vscode-notebook-cell:/Users/boss/Desktop/QAP-main/hueristics/tabu%20search.ipynb#X10sZmlsZQ%3D%3D?line=18'>19</a>\u001b[0m \u001b[39mprint\u001b[39m(solution)\n",
      "\u001b[1;32m/Users/boss/Desktop/QAP-main/hueristics/tabu search.ipynb Cell 7\u001b[0m line \u001b[0;36m3\n\u001b[1;32m     <a href='vscode-notebook-cell:/Users/boss/Desktop/QAP-main/hueristics/tabu%20search.ipynb#X10sZmlsZQ%3D%3D?line=33'>34</a>\u001b[0m \u001b[39mfor\u001b[39;00m neighbor \u001b[39min\u001b[39;00m neighbors:\n\u001b[1;32m     <a href='vscode-notebook-cell:/Users/boss/Desktop/QAP-main/hueristics/tabu%20search.ipynb#X10sZmlsZQ%3D%3D?line=34'>35</a>\u001b[0m     \u001b[39mif\u001b[39;00m neighbor \u001b[39mnot\u001b[39;00m \u001b[39min\u001b[39;00m tabu_list:\n\u001b[0;32m---> <a href='vscode-notebook-cell:/Users/boss/Desktop/QAP-main/hueristics/tabu%20search.ipynb#X10sZmlsZQ%3D%3D?line=35'>36</a>\u001b[0m         cost \u001b[39m=\u001b[39m objective_function(neighbor, distance, flow)\n\u001b[1;32m     <a href='vscode-notebook-cell:/Users/boss/Desktop/QAP-main/hueristics/tabu%20search.ipynb#X10sZmlsZQ%3D%3D?line=36'>37</a>\u001b[0m         \u001b[39mif\u001b[39;00m cost \u001b[39m<\u001b[39m best_neighbor_cost:\n\u001b[1;32m     <a href='vscode-notebook-cell:/Users/boss/Desktop/QAP-main/hueristics/tabu%20search.ipynb#X10sZmlsZQ%3D%3D?line=37'>38</a>\u001b[0m             best_neighbor_cost \u001b[39m=\u001b[39m cost\n",
      "\u001b[1;32m/Users/boss/Desktop/QAP-main/hueristics/tabu search.ipynb Cell 7\u001b[0m line \u001b[0;36m6\n\u001b[1;32m      <a href='vscode-notebook-cell:/Users/boss/Desktop/QAP-main/hueristics/tabu%20search.ipynb#X10sZmlsZQ%3D%3D?line=3'>4</a>\u001b[0m \u001b[39mfor\u001b[39;00m i \u001b[39min\u001b[39;00m \u001b[39mrange\u001b[39m(n):\n\u001b[1;32m      <a href='vscode-notebook-cell:/Users/boss/Desktop/QAP-main/hueristics/tabu%20search.ipynb#X10sZmlsZQ%3D%3D?line=4'>5</a>\u001b[0m     \u001b[39mfor\u001b[39;00m j \u001b[39min\u001b[39;00m \u001b[39mrange\u001b[39m(n):\n\u001b[0;32m----> <a href='vscode-notebook-cell:/Users/boss/Desktop/QAP-main/hueristics/tabu%20search.ipynb#X10sZmlsZQ%3D%3D?line=5'>6</a>\u001b[0m         total \u001b[39m+\u001b[39m\u001b[39m=\u001b[39m flow[i][j] \u001b[39m*\u001b[39m distance[permutation[i]][permutation[j]]\n\u001b[1;32m      <a href='vscode-notebook-cell:/Users/boss/Desktop/QAP-main/hueristics/tabu%20search.ipynb#X10sZmlsZQ%3D%3D?line=6'>7</a>\u001b[0m \u001b[39mreturn\u001b[39;00m total\n",
      "\u001b[0;31mKeyboardInterrupt\u001b[0m: "
     ]
    }
   ],
   "source": [
    "# for managing file opening and closing\n",
    "def read_integers(filename):\n",
    "    with open(filename) as f:\n",
    "        return [int(elem) for elem in f.read().split()]\n",
    "\n",
    "# Using raw string for the path\n",
    "file_path = '../QAPInstances/tai30b.dat'  \n",
    "file_it = iter(read_integers(file_path))\n",
    "\n",
    "# Number of points\n",
    "n = next(file_it)\n",
    "\n",
    "# Distance between locations\n",
    "w = np.array([[next(file_it) for j in range(n)] for i in range(n)])\n",
    "d = np.array([[next(file_it) for j in range(n)] for i in range(n)])\n",
    "\n",
    "solution,cost = tabu_search(w, d)\n",
    "visualize_qap_solution(w, d, solution)\n",
    "print(solution)\n",
    "print(cost)"
   ]
  }
 ],
 "metadata": {
  "kernelspec": {
   "display_name": "base",
   "language": "python",
   "name": "python3"
  },
  "language_info": {
   "codemirror_mode": {
    "name": "ipython",
    "version": 3
   },
   "file_extension": ".py",
   "mimetype": "text/x-python",
   "name": "python",
   "nbconvert_exporter": "python",
   "pygments_lexer": "ipython3",
   "version": "3.10.9"
  },
  "orig_nbformat": 4
 },
 "nbformat": 4,
 "nbformat_minor": 2
}
